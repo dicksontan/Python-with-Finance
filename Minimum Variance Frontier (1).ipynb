{
 "cells": [
  {
   "cell_type": "code",
   "execution_count": 1,
   "id": "f33ebbfd",
   "metadata": {},
   "outputs": [
    {
     "name": "stderr",
     "output_type": "stream",
     "text": [
      "/Users/User2/opt/anaconda3/lib/python3.8/site-packages/openpyxl/worksheet/_reader.py:300: UserWarning: Unknown extension is not supported and will be removed\n",
      "  warn(msg)\n"
     ]
    }
   ],
   "source": [
    "import pandas as pd\n",
    "import numpy as np\n",
    "import datetime as dt\n",
    "import matplotlib.pyplot as plt\n",
    "from matplotlib.pyplot import figure\n",
    "\n",
    "data_df = pd.read_excel('Industry_Portfolios_sample.xlsx')\n",
    "data_df2 = data_df.drop(['Date'],axis=1).copy()"
   ]
  },
  {
   "cell_type": "code",
   "execution_count": 2,
   "id": "12e4e549",
   "metadata": {},
   "outputs": [
    {
     "data": {
      "text/html": [
       "<div>\n",
       "<style scoped>\n",
       "    .dataframe tbody tr th:only-of-type {\n",
       "        vertical-align: middle;\n",
       "    }\n",
       "\n",
       "    .dataframe tbody tr th {\n",
       "        vertical-align: top;\n",
       "    }\n",
       "\n",
       "    .dataframe thead th {\n",
       "        text-align: right;\n",
       "    }\n",
       "</style>\n",
       "<table border=\"1\" class=\"dataframe\">\n",
       "  <thead>\n",
       "    <tr style=\"text-align: right;\">\n",
       "      <th></th>\n",
       "      <th>Date</th>\n",
       "      <th>NoDur</th>\n",
       "      <th>Durbl</th>\n",
       "      <th>Manuf</th>\n",
       "      <th>Enrgy</th>\n",
       "      <th>HiTec</th>\n",
       "      <th>Telcm</th>\n",
       "      <th>Shops</th>\n",
       "      <th>Hlth</th>\n",
       "      <th>Utils</th>\n",
       "      <th>Other</th>\n",
       "    </tr>\n",
       "  </thead>\n",
       "  <tbody>\n",
       "    <tr>\n",
       "      <th>0</th>\n",
       "      <td>200401</td>\n",
       "      <td>0.06</td>\n",
       "      <td>-1.07</td>\n",
       "      <td>-0.62</td>\n",
       "      <td>0.44</td>\n",
       "      <td>4.53</td>\n",
       "      <td>1.41</td>\n",
       "      <td>0.45</td>\n",
       "      <td>3.09</td>\n",
       "      <td>1.92</td>\n",
       "      <td>2.88</td>\n",
       "    </tr>\n",
       "    <tr>\n",
       "      <th>1</th>\n",
       "      <td>200402</td>\n",
       "      <td>4.25</td>\n",
       "      <td>-0.07</td>\n",
       "      <td>1.95</td>\n",
       "      <td>4.69</td>\n",
       "      <td>-2.92</td>\n",
       "      <td>-0.52</td>\n",
       "      <td>6.09</td>\n",
       "      <td>0.89</td>\n",
       "      <td>2.07</td>\n",
       "      <td>2.16</td>\n",
       "    </tr>\n",
       "    <tr>\n",
       "      <th>2</th>\n",
       "      <td>200403</td>\n",
       "      <td>-0.09</td>\n",
       "      <td>-1.15</td>\n",
       "      <td>-0.27</td>\n",
       "      <td>-0.13</td>\n",
       "      <td>-2.55</td>\n",
       "      <td>-2.07</td>\n",
       "      <td>0.29</td>\n",
       "      <td>-3.96</td>\n",
       "      <td>1.13</td>\n",
       "      <td>-0.63</td>\n",
       "    </tr>\n",
       "    <tr>\n",
       "      <th>3</th>\n",
       "      <td>200404</td>\n",
       "      <td>1.42</td>\n",
       "      <td>2.30</td>\n",
       "      <td>-0.17</td>\n",
       "      <td>2.52</td>\n",
       "      <td>-4.91</td>\n",
       "      <td>-0.48</td>\n",
       "      <td>-2.70</td>\n",
       "      <td>3.54</td>\n",
       "      <td>-3.55</td>\n",
       "      <td>-3.76</td>\n",
       "    </tr>\n",
       "    <tr>\n",
       "      <th>4</th>\n",
       "      <td>200405</td>\n",
       "      <td>-1.89</td>\n",
       "      <td>-1.64</td>\n",
       "      <td>1.61</td>\n",
       "      <td>0.39</td>\n",
       "      <td>4.85</td>\n",
       "      <td>-2.95</td>\n",
       "      <td>0.30</td>\n",
       "      <td>-0.42</td>\n",
       "      <td>1.28</td>\n",
       "      <td>1.86</td>\n",
       "    </tr>\n",
       "    <tr>\n",
       "      <th>...</th>\n",
       "      <td>...</td>\n",
       "      <td>...</td>\n",
       "      <td>...</td>\n",
       "      <td>...</td>\n",
       "      <td>...</td>\n",
       "      <td>...</td>\n",
       "      <td>...</td>\n",
       "      <td>...</td>\n",
       "      <td>...</td>\n",
       "      <td>...</td>\n",
       "      <td>...</td>\n",
       "    </tr>\n",
       "    <tr>\n",
       "      <th>115</th>\n",
       "      <td>201308</td>\n",
       "      <td>-4.00</td>\n",
       "      <td>-1.00</td>\n",
       "      <td>-1.95</td>\n",
       "      <td>-1.83</td>\n",
       "      <td>-0.12</td>\n",
       "      <td>-3.28</td>\n",
       "      <td>-4.21</td>\n",
       "      <td>-3.49</td>\n",
       "      <td>-4.43</td>\n",
       "      <td>-3.66</td>\n",
       "    </tr>\n",
       "    <tr>\n",
       "      <th>116</th>\n",
       "      <td>201309</td>\n",
       "      <td>1.94</td>\n",
       "      <td>6.46</td>\n",
       "      <td>5.20</td>\n",
       "      <td>2.03</td>\n",
       "      <td>3.77</td>\n",
       "      <td>4.33</td>\n",
       "      <td>4.46</td>\n",
       "      <td>4.19</td>\n",
       "      <td>1.05</td>\n",
       "      <td>3.83</td>\n",
       "    </tr>\n",
       "    <tr>\n",
       "      <th>117</th>\n",
       "      <td>201310</td>\n",
       "      <td>4.75</td>\n",
       "      <td>0.72</td>\n",
       "      <td>4.56</td>\n",
       "      <td>4.86</td>\n",
       "      <td>3.80</td>\n",
       "      <td>5.52</td>\n",
       "      <td>5.08</td>\n",
       "      <td>3.47</td>\n",
       "      <td>3.35</td>\n",
       "      <td>3.87</td>\n",
       "    </tr>\n",
       "    <tr>\n",
       "      <th>118</th>\n",
       "      <td>201311</td>\n",
       "      <td>1.29</td>\n",
       "      <td>1.81</td>\n",
       "      <td>2.95</td>\n",
       "      <td>0.85</td>\n",
       "      <td>3.65</td>\n",
       "      <td>0.27</td>\n",
       "      <td>3.67</td>\n",
       "      <td>4.54</td>\n",
       "      <td>-1.81</td>\n",
       "      <td>4.74</td>\n",
       "    </tr>\n",
       "    <tr>\n",
       "      <th>119</th>\n",
       "      <td>201312</td>\n",
       "      <td>2.65</td>\n",
       "      <td>1.18</td>\n",
       "      <td>3.13</td>\n",
       "      <td>2.95</td>\n",
       "      <td>4.04</td>\n",
       "      <td>3.96</td>\n",
       "      <td>0.20</td>\n",
       "      <td>0.71</td>\n",
       "      <td>1.79</td>\n",
       "      <td>3.11</td>\n",
       "    </tr>\n",
       "  </tbody>\n",
       "</table>\n",
       "<p>120 rows × 11 columns</p>\n",
       "</div>"
      ],
      "text/plain": [
       "       Date  NoDur  Durbl  Manuf  Enrgy  HiTec  Telcm  Shops  Hlth  Utils  \\\n",
       "0    200401   0.06  -1.07  -0.62   0.44   4.53   1.41   0.45  3.09   1.92   \n",
       "1    200402   4.25  -0.07   1.95   4.69  -2.92  -0.52   6.09  0.89   2.07   \n",
       "2    200403  -0.09  -1.15  -0.27  -0.13  -2.55  -2.07   0.29 -3.96   1.13   \n",
       "3    200404   1.42   2.30  -0.17   2.52  -4.91  -0.48  -2.70  3.54  -3.55   \n",
       "4    200405  -1.89  -1.64   1.61   0.39   4.85  -2.95   0.30 -0.42   1.28   \n",
       "..      ...    ...    ...    ...    ...    ...    ...    ...   ...    ...   \n",
       "115  201308  -4.00  -1.00  -1.95  -1.83  -0.12  -3.28  -4.21 -3.49  -4.43   \n",
       "116  201309   1.94   6.46   5.20   2.03   3.77   4.33   4.46  4.19   1.05   \n",
       "117  201310   4.75   0.72   4.56   4.86   3.80   5.52   5.08  3.47   3.35   \n",
       "118  201311   1.29   1.81   2.95   0.85   3.65   0.27   3.67  4.54  -1.81   \n",
       "119  201312   2.65   1.18   3.13   2.95   4.04   3.96   0.20  0.71   1.79   \n",
       "\n",
       "     Other  \n",
       "0     2.88  \n",
       "1     2.16  \n",
       "2    -0.63  \n",
       "3    -3.76  \n",
       "4     1.86  \n",
       "..     ...  \n",
       "115  -3.66  \n",
       "116   3.83  \n",
       "117   3.87  \n",
       "118   4.74  \n",
       "119   3.11  \n",
       "\n",
       "[120 rows x 11 columns]"
      ]
     },
     "execution_count": 2,
     "metadata": {},
     "output_type": "execute_result"
    }
   ],
   "source": [
    "##input rf_rate\n",
    "\n",
    "rf_rate = 0.13\n",
    "data_df"
   ]
  },
  {
   "cell_type": "code",
   "execution_count": 3,
   "id": "a5b494b1",
   "metadata": {
    "scrolled": false
   },
   "outputs": [
    {
     "data": {
      "text/html": [
       "<div>\n",
       "<style scoped>\n",
       "    .dataframe tbody tr th:only-of-type {\n",
       "        vertical-align: middle;\n",
       "    }\n",
       "\n",
       "    .dataframe tbody tr th {\n",
       "        vertical-align: top;\n",
       "    }\n",
       "\n",
       "    .dataframe thead th {\n",
       "        text-align: right;\n",
       "    }\n",
       "</style>\n",
       "<table border=\"1\" class=\"dataframe\">\n",
       "  <thead>\n",
       "    <tr style=\"text-align: right;\">\n",
       "      <th></th>\n",
       "      <th>NoDur</th>\n",
       "      <th>Durbl</th>\n",
       "      <th>Manuf</th>\n",
       "      <th>Enrgy</th>\n",
       "      <th>HiTec</th>\n",
       "      <th>Telcm</th>\n",
       "      <th>Shops</th>\n",
       "      <th>Hlth</th>\n",
       "      <th>Utils</th>\n",
       "      <th>Other</th>\n",
       "    </tr>\n",
       "  </thead>\n",
       "  <tbody>\n",
       "    <tr>\n",
       "      <th>NoDur</th>\n",
       "      <td>11.193422</td>\n",
       "      <td>18.449666</td>\n",
       "      <td>14.104907</td>\n",
       "      <td>10.531341</td>\n",
       "      <td>12.922949</td>\n",
       "      <td>11.968078</td>\n",
       "      <td>10.170832</td>\n",
       "      <td>9.953112</td>\n",
       "      <td>7.866653</td>\n",
       "      <td>14.438409</td>\n",
       "    </tr>\n",
       "    <tr>\n",
       "      <th>Durbl</th>\n",
       "      <td>18.449666</td>\n",
       "      <td>69.920577</td>\n",
       "      <td>39.178097</td>\n",
       "      <td>27.019794</td>\n",
       "      <td>35.466652</td>\n",
       "      <td>27.490543</td>\n",
       "      <td>27.444731</td>\n",
       "      <td>16.824003</td>\n",
       "      <td>12.746136</td>\n",
       "      <td>39.361987</td>\n",
       "    </tr>\n",
       "    <tr>\n",
       "      <th>Manuf</th>\n",
       "      <td>14.104907</td>\n",
       "      <td>39.178097</td>\n",
       "      <td>28.198970</td>\n",
       "      <td>23.145380</td>\n",
       "      <td>24.618739</td>\n",
       "      <td>19.550150</td>\n",
       "      <td>17.622867</td>\n",
       "      <td>13.596447</td>\n",
       "      <td>11.440612</td>\n",
       "      <td>26.313423</td>\n",
       "    </tr>\n",
       "    <tr>\n",
       "      <th>Enrgy</th>\n",
       "      <td>10.531341</td>\n",
       "      <td>27.019794</td>\n",
       "      <td>23.145380</td>\n",
       "      <td>36.984933</td>\n",
       "      <td>19.267276</td>\n",
       "      <td>15.366817</td>\n",
       "      <td>11.297800</td>\n",
       "      <td>9.630327</td>\n",
       "      <td>14.027168</td>\n",
       "      <td>18.320469</td>\n",
       "    </tr>\n",
       "    <tr>\n",
       "      <th>HiTec</th>\n",
       "      <td>12.922949</td>\n",
       "      <td>35.466652</td>\n",
       "      <td>24.618739</td>\n",
       "      <td>19.267276</td>\n",
       "      <td>28.957220</td>\n",
       "      <td>18.708273</td>\n",
       "      <td>17.837115</td>\n",
       "      <td>13.254064</td>\n",
       "      <td>10.304187</td>\n",
       "      <td>23.855470</td>\n",
       "    </tr>\n",
       "    <tr>\n",
       "      <th>Telcm</th>\n",
       "      <td>11.968078</td>\n",
       "      <td>27.490543</td>\n",
       "      <td>19.550150</td>\n",
       "      <td>15.366817</td>\n",
       "      <td>18.708273</td>\n",
       "      <td>19.787227</td>\n",
       "      <td>14.169356</td>\n",
       "      <td>11.506599</td>\n",
       "      <td>10.991596</td>\n",
       "      <td>19.610836</td>\n",
       "    </tr>\n",
       "    <tr>\n",
       "      <th>Shops</th>\n",
       "      <td>10.170832</td>\n",
       "      <td>27.444731</td>\n",
       "      <td>17.622867</td>\n",
       "      <td>11.297800</td>\n",
       "      <td>17.837115</td>\n",
       "      <td>14.169356</td>\n",
       "      <td>16.759084</td>\n",
       "      <td>10.178849</td>\n",
       "      <td>6.694350</td>\n",
       "      <td>19.226524</td>\n",
       "    </tr>\n",
       "    <tr>\n",
       "      <th>Hlth</th>\n",
       "      <td>9.953112</td>\n",
       "      <td>16.824003</td>\n",
       "      <td>13.596447</td>\n",
       "      <td>9.630327</td>\n",
       "      <td>13.254064</td>\n",
       "      <td>11.506599</td>\n",
       "      <td>10.178849</td>\n",
       "      <td>14.342669</td>\n",
       "      <td>7.475036</td>\n",
       "      <td>14.864553</td>\n",
       "    </tr>\n",
       "    <tr>\n",
       "      <th>Utils</th>\n",
       "      <td>7.866653</td>\n",
       "      <td>12.746136</td>\n",
       "      <td>11.440612</td>\n",
       "      <td>14.027168</td>\n",
       "      <td>10.304187</td>\n",
       "      <td>10.991596</td>\n",
       "      <td>6.694350</td>\n",
       "      <td>7.475036</td>\n",
       "      <td>13.703052</td>\n",
       "      <td>9.992960</td>\n",
       "    </tr>\n",
       "    <tr>\n",
       "      <th>Other</th>\n",
       "      <td>14.438409</td>\n",
       "      <td>39.361987</td>\n",
       "      <td>26.313423</td>\n",
       "      <td>18.320469</td>\n",
       "      <td>23.855470</td>\n",
       "      <td>19.610836</td>\n",
       "      <td>19.226524</td>\n",
       "      <td>14.864553</td>\n",
       "      <td>9.992960</td>\n",
       "      <td>31.163771</td>\n",
       "    </tr>\n",
       "  </tbody>\n",
       "</table>\n",
       "</div>"
      ],
      "text/plain": [
       "           NoDur      Durbl      Manuf      Enrgy      HiTec      Telcm  \\\n",
       "NoDur  11.193422  18.449666  14.104907  10.531341  12.922949  11.968078   \n",
       "Durbl  18.449666  69.920577  39.178097  27.019794  35.466652  27.490543   \n",
       "Manuf  14.104907  39.178097  28.198970  23.145380  24.618739  19.550150   \n",
       "Enrgy  10.531341  27.019794  23.145380  36.984933  19.267276  15.366817   \n",
       "HiTec  12.922949  35.466652  24.618739  19.267276  28.957220  18.708273   \n",
       "Telcm  11.968078  27.490543  19.550150  15.366817  18.708273  19.787227   \n",
       "Shops  10.170832  27.444731  17.622867  11.297800  17.837115  14.169356   \n",
       "Hlth    9.953112  16.824003  13.596447   9.630327  13.254064  11.506599   \n",
       "Utils   7.866653  12.746136  11.440612  14.027168  10.304187  10.991596   \n",
       "Other  14.438409  39.361987  26.313423  18.320469  23.855470  19.610836   \n",
       "\n",
       "           Shops       Hlth      Utils      Other  \n",
       "NoDur  10.170832   9.953112   7.866653  14.438409  \n",
       "Durbl  27.444731  16.824003  12.746136  39.361987  \n",
       "Manuf  17.622867  13.596447  11.440612  26.313423  \n",
       "Enrgy  11.297800   9.630327  14.027168  18.320469  \n",
       "HiTec  17.837115  13.254064  10.304187  23.855470  \n",
       "Telcm  14.169356  11.506599  10.991596  19.610836  \n",
       "Shops  16.759084  10.178849   6.694350  19.226524  \n",
       "Hlth   10.178849  14.342669   7.475036  14.864553  \n",
       "Utils   6.694350   7.475036  13.703052   9.992960  \n",
       "Other  19.226524  14.864553   9.992960  31.163771  "
      ]
     },
     "execution_count": 3,
     "metadata": {},
     "output_type": "execute_result"
    }
   ],
   "source": [
    "mean_returns = data_df2.mean()\n",
    "cov_matrix = data_df2.cov()\n",
    "\n",
    "cov_matrix"
   ]
  },
  {
   "cell_type": "code",
   "execution_count": 4,
   "id": "c3d786e8",
   "metadata": {},
   "outputs": [
    {
     "data": {
      "text/html": [
       "<div>\n",
       "<style scoped>\n",
       "    .dataframe tbody tr th:only-of-type {\n",
       "        vertical-align: middle;\n",
       "    }\n",
       "\n",
       "    .dataframe tbody tr th {\n",
       "        vertical-align: top;\n",
       "    }\n",
       "\n",
       "    .dataframe thead th {\n",
       "        text-align: right;\n",
       "    }\n",
       "</style>\n",
       "<table border=\"1\" class=\"dataframe\">\n",
       "  <thead>\n",
       "    <tr style=\"text-align: right;\">\n",
       "      <th></th>\n",
       "      <th>mean</th>\n",
       "      <th>std</th>\n",
       "    </tr>\n",
       "  </thead>\n",
       "  <tbody>\n",
       "    <tr>\n",
       "      <th>NoDur</th>\n",
       "      <td>0.902833</td>\n",
       "      <td>3.345657</td>\n",
       "    </tr>\n",
       "    <tr>\n",
       "      <th>Durbl</th>\n",
       "      <td>0.733333</td>\n",
       "      <td>8.361852</td>\n",
       "    </tr>\n",
       "    <tr>\n",
       "      <th>Manuf</th>\n",
       "      <td>1.012833</td>\n",
       "      <td>5.310270</td>\n",
       "    </tr>\n",
       "    <tr>\n",
       "      <th>Enrgy</th>\n",
       "      <td>1.231167</td>\n",
       "      <td>6.081524</td>\n",
       "    </tr>\n",
       "    <tr>\n",
       "      <th>HiTec</th>\n",
       "      <td>0.766250</td>\n",
       "      <td>5.381191</td>\n",
       "    </tr>\n",
       "    <tr>\n",
       "      <th>Telcm</th>\n",
       "      <td>0.881417</td>\n",
       "      <td>4.448284</td>\n",
       "    </tr>\n",
       "    <tr>\n",
       "      <th>Shops</th>\n",
       "      <td>0.916333</td>\n",
       "      <td>4.093786</td>\n",
       "    </tr>\n",
       "    <tr>\n",
       "      <th>Hlth</th>\n",
       "      <td>0.783833</td>\n",
       "      <td>3.787172</td>\n",
       "    </tr>\n",
       "    <tr>\n",
       "      <th>Utils</th>\n",
       "      <td>0.907167</td>\n",
       "      <td>3.701763</td>\n",
       "    </tr>\n",
       "    <tr>\n",
       "      <th>Other</th>\n",
       "      <td>0.489083</td>\n",
       "      <td>5.582452</td>\n",
       "    </tr>\n",
       "  </tbody>\n",
       "</table>\n",
       "</div>"
      ],
      "text/plain": [
       "           mean       std\n",
       "NoDur  0.902833  3.345657\n",
       "Durbl  0.733333  8.361852\n",
       "Manuf  1.012833  5.310270\n",
       "Enrgy  1.231167  6.081524\n",
       "HiTec  0.766250  5.381191\n",
       "Telcm  0.881417  4.448284\n",
       "Shops  0.916333  4.093786\n",
       "Hlth   0.783833  3.787172\n",
       "Utils  0.907167  3.701763\n",
       "Other  0.489083  5.582452"
      ]
     },
     "execution_count": 4,
     "metadata": {},
     "output_type": "execute_result"
    }
   ],
   "source": [
    "data_table = pd.DataFrame(data_df2.mean(),columns = ['mean'])\n",
    "data_table['std']=data_df2.std()\n",
    "\n",
    "data_table"
   ]
  },
  {
   "cell_type": "code",
   "execution_count": 5,
   "id": "6255c4c1",
   "metadata": {},
   "outputs": [],
   "source": [
    "R = np.array(data_table['mean'])\n",
    "\n",
    "Inverse_cov_matrix = np.linalg.inv(cov_matrix)\n",
    "\n",
    "E_unit_vector = np.array([1]*10)"
   ]
  },
  {
   "cell_type": "code",
   "execution_count": 6,
   "id": "61bd23a6",
   "metadata": {},
   "outputs": [
    {
     "data": {
      "text/plain": [
       "0.137943238699319"
      ]
     },
     "execution_count": 6,
     "metadata": {},
     "output_type": "execute_result"
    }
   ],
   "source": [
    "alpha = np.dot(np.dot(R,Inverse_cov_matrix),E_unit_vector)\n",
    "\n",
    "alpha"
   ]
  },
  {
   "cell_type": "code",
   "execution_count": 7,
   "id": "64b7f742",
   "metadata": {},
   "outputs": [
    {
     "data": {
      "text/plain": [
       "0.19640858464482278"
      ]
     },
     "execution_count": 7,
     "metadata": {},
     "output_type": "execute_result"
    }
   ],
   "source": [
    "zeta = np.dot(np.dot(R,Inverse_cov_matrix),R)\n",
    "\n",
    "zeta"
   ]
  },
  {
   "cell_type": "code",
   "execution_count": 8,
   "id": "b795c05a",
   "metadata": {},
   "outputs": [
    {
     "data": {
      "text/plain": [
       "0.1373875973567117"
      ]
     },
     "execution_count": 8,
     "metadata": {},
     "output_type": "execute_result"
    }
   ],
   "source": [
    "delta = np.dot(np.dot(E_unit_vector.T,Inverse_cov_matrix),E_unit_vector)\n",
    "\n",
    "delta"
   ]
  },
  {
   "cell_type": "code",
   "execution_count": 9,
   "id": "8ecc97cd",
   "metadata": {},
   "outputs": [
    {
     "data": {
      "text/plain": [
       "1.0040443340832625"
      ]
     },
     "execution_count": 9,
     "metadata": {},
     "output_type": "execute_result"
    }
   ],
   "source": [
    "Return_MV_port = alpha/delta\n",
    "Return_MV_port"
   ]
  },
  {
   "cell_type": "code",
   "execution_count": 10,
   "id": "d7b7cd64",
   "metadata": {},
   "outputs": [],
   "source": [
    "Return_Portfolio_Target_List = pd.Series(np.arange(0,2.1,0.1))"
   ]
  },
  {
   "cell_type": "code",
   "execution_count": 11,
   "id": "f2eb18c7",
   "metadata": {},
   "outputs": [],
   "source": [
    "def Variance_P_formula(alpha,delta,zeta,Return_P,Return_MV_port):\n",
    "    return (1/delta + delta/(zeta*delta-alpha**2)*(Return_P - Return_MV_port)**2)\n",
    "\n",
    "Variance_P_List = Return_Portfolio_Target_List.apply(lambda x: Variance_P_formula(alpha,delta,zeta,x,Return_MV_port))\n",
    "SD_P_List = np.sqrt(Variance_P_List)"
   ]
  },
  {
   "cell_type": "code",
   "execution_count": 12,
   "id": "dc38a570",
   "metadata": {},
   "outputs": [
    {
     "data": {
      "text/plain": [
       "Text(0.5, 1.0, 'Minimum-Variance Frontier')"
      ]
     },
     "execution_count": 12,
     "metadata": {},
     "output_type": "execute_result"
    },
    {
     "data": {
      "image/png": "[encoded data removed]",
      "text/plain": [
       "<Figure size 432x288 with 1 Axes>"
      ]
     },
     "metadata": {
      "needs_background": "light"
     },
     "output_type": "display_data"
    }
   ],
   "source": [
    "plt.yticks(Return_Portfolio_Target_List)\n",
    "plt.plot(SD_P_List,Return_Portfolio_Target_List)\n",
    "plt.xlabel(\"Standard Deviation\")\n",
    "plt.ylabel(\"Portfolio Returns\")\n",
    "plt.title('Minimum-Variance Frontier')"
   ]
  },
  {
   "cell_type": "code",
   "execution_count": 13,
   "id": "530051aa",
   "metadata": {},
   "outputs": [
    {
     "data": {
      "text/plain": [
       "0    4.968659\n",
       "1    4.625204\n",
       "2    4.294511\n",
       "3    3.979763\n",
       "4    3.685049\n",
       "dtype: float64"
      ]
     },
     "execution_count": 13,
     "metadata": {},
     "output_type": "execute_result"
    }
   ],
   "source": [
    "SD_P_List.head()"
   ]
  },
  {
   "cell_type": "code",
   "execution_count": 14,
   "id": "ed9cc9c6",
   "metadata": {},
   "outputs": [
    {
     "data": {
      "text/plain": [
       "4.633695248093936"
      ]
     },
     "execution_count": 14,
     "metadata": {},
     "output_type": "execute_result"
    }
   ],
   "source": [
    "def Variance_P_formula_riskless_asset(alpha,delta,zeta,Return_P,Return_F):\n",
    "    return (Return_P-Return_F)**2/(zeta-2*alpha*Return_F+delta*Return_F**2)\n",
    "\n",
    "Variance_CAL_line = Variance_P_formula_riskless_asset(alpha,delta,zeta,2,0.13)\n",
    "SD_CAL_line = np.sqrt(Variance_CAL_line)\n",
    "SD_CAL_line"
   ]
  },
  {
   "cell_type": "code",
   "execution_count": 15,
   "id": "ec6747e3",
   "metadata": {},
   "outputs": [
    {
     "data": {
      "text/plain": [
       "<matplotlib.legend.Legend at 0x7ff7a11da790>"
      ]
     },
     "execution_count": 15,
     "metadata": {},
     "output_type": "execute_result"
    },
    {
     "data": {
      "image/png": "[encoded data removed]",
      "text/plain": [
       "<Figure size 576x576 with 1 Axes>"
      ]
     },
     "metadata": {
      "needs_background": "light"
     },
     "output_type": "display_data"
    }
   ],
   "source": [
    "figure(figsize=(8, 8))\n",
    "\n",
    "plt.yticks(Return_Portfolio_Target_List)\n",
    "x = [0,SD_CAL_line]\n",
    "y = [0.13,2]\n",
    "plt.plot(x,y, label = 'Efficient Frontier')\n",
    "\n",
    "plt.plot(SD_P_List,Return_Portfolio_Target_List, label='Minimum Variance Frontier')\n",
    "\n",
    "plt.xlabel(\"Standard Deviation\")\n",
    "plt.ylabel(\"Portfolio Returns\")\n",
    "plt.title('Efficient Frontier')\n",
    "plt.legend()"
   ]
  },
  {
   "cell_type": "code",
   "execution_count": 16,
   "id": "aabdf126",
   "metadata": {},
   "outputs": [
    {
     "data": {
      "text/plain": [
       "0.4035655993495088"
      ]
     },
     "execution_count": 16,
     "metadata": {},
     "output_type": "execute_result"
    }
   ],
   "source": [
    "def sharpe_ratio(alpha,delta,zeta,Return_F):\n",
    "    return np.sqrt((zeta-2*alpha*Return_F+delta*Return_F**2))\n",
    "\n",
    "sharpe_ratio = sharpe_ratio(alpha,delta,zeta,0.13)\n",
    "sharpe_ratio"
   ]
  },
  {
   "cell_type": "code",
   "execution_count": 17,
   "id": "8ac8d95a",
   "metadata": {},
   "outputs": [
    {
     "data": {
      "text/plain": [
       "0.4035655993495088"
      ]
     },
     "execution_count": 17,
     "metadata": {},
     "output_type": "execute_result"
    }
   ],
   "source": [
    "(2-0.13)/SD_CAL_line"
   ]
  },
  {
   "cell_type": "code",
   "execution_count": 18,
   "id": "ea1e5597",
   "metadata": {},
   "outputs": [
    {
     "data": {
      "text/plain": [
       "1.4862735358446901"
      ]
     },
     "execution_count": 18,
     "metadata": {},
     "output_type": "execute_result"
    }
   ],
   "source": [
    "def mean_return_tanj_port(alpha,delta,zeta,Return_F):\n",
    "    return (alpha*Return_F-zeta)/(delta*Return_F-alpha)\n",
    "\n",
    "mean_return_tanj_point = mean_return_tanj_port(alpha,delta,zeta,0.13)\n",
    "mean_return_tanj_point"
   ]
  },
  {
   "cell_type": "code",
   "execution_count": 19,
   "id": "62219b6d",
   "metadata": {},
   "outputs": [],
   "source": [
    "def lambda_risk_free(alpha,delta,zeta,Return_P,Return_F):\n",
    "    return (Return_P-Return_F)/(zeta-2*alpha*Return_F+delta*Return_F**2)\n",
    "\n",
    "lambda_RF = lambda_risk_free(alpha,delta,zeta,mean_return_tanj_point,0.13)\n",
    "\n",
    "def ideal_port_wstar_risk_free(lambda_RF,Inverse_cov_matrix,R,Return_F,E_unit_vector):\n",
    "    wstar_risk_free = np.dot(np.dot(lambda_RF,Inverse_cov_matrix),(R- np.dot(Return_F,E_unit_vector)))\n",
    "    return wstar_risk_free\n",
    "\n",
    "ideal_port_wstar_risk_free_1 = ideal_port_wstar_risk_free(lambda_RF,Inverse_cov_matrix,R,0.13,E_unit_vector)"
   ]
  },
  {
   "cell_type": "code",
   "execution_count": 20,
   "id": "ca66c69b",
   "metadata": {},
   "outputs": [
    {
     "data": {
      "text/html": [
       "<div>\n",
       "<style scoped>\n",
       "    .dataframe tbody tr th:only-of-type {\n",
       "        vertical-align: middle;\n",
       "    }\n",
       "\n",
       "    .dataframe tbody tr th {\n",
       "        vertical-align: top;\n",
       "    }\n",
       "\n",
       "    .dataframe thead th {\n",
       "        text-align: right;\n",
       "    }\n",
       "</style>\n",
       "<table border=\"1\" class=\"dataframe\">\n",
       "  <thead>\n",
       "    <tr style=\"text-align: right;\">\n",
       "      <th></th>\n",
       "      <th>Ideal portfolio weights</th>\n",
       "    </tr>\n",
       "  </thead>\n",
       "  <tbody>\n",
       "    <tr>\n",
       "      <th>NoDur</th>\n",
       "      <td>0.567972</td>\n",
       "    </tr>\n",
       "    <tr>\n",
       "      <th>Durbl</th>\n",
       "      <td>-0.214073</td>\n",
       "    </tr>\n",
       "    <tr>\n",
       "      <th>Manuf</th>\n",
       "      <td>0.714105</td>\n",
       "    </tr>\n",
       "    <tr>\n",
       "      <th>Enrgy</th>\n",
       "      <td>0.104087</td>\n",
       "    </tr>\n",
       "    <tr>\n",
       "      <th>HiTec</th>\n",
       "      <td>-0.363438</td>\n",
       "    </tr>\n",
       "    <tr>\n",
       "      <th>Telcm</th>\n",
       "      <td>-0.095463</td>\n",
       "    </tr>\n",
       "    <tr>\n",
       "      <th>Shops</th>\n",
       "      <td>0.991647</td>\n",
       "    </tr>\n",
       "    <tr>\n",
       "      <th>Hlth</th>\n",
       "      <td>0.075570</td>\n",
       "    </tr>\n",
       "    <tr>\n",
       "      <th>Utils</th>\n",
       "      <td>0.132643</td>\n",
       "    </tr>\n",
       "    <tr>\n",
       "      <th>Other</th>\n",
       "      <td>-0.913051</td>\n",
       "    </tr>\n",
       "  </tbody>\n",
       "</table>\n",
       "</div>"
      ],
      "text/plain": [
       "       Ideal portfolio weights\n",
       "NoDur                 0.567972\n",
       "Durbl                -0.214073\n",
       "Manuf                 0.714105\n",
       "Enrgy                 0.104087\n",
       "HiTec                -0.363438\n",
       "Telcm                -0.095463\n",
       "Shops                 0.991647\n",
       "Hlth                  0.075570\n",
       "Utils                 0.132643\n",
       "Other                -0.913051"
      ]
     },
     "execution_count": 20,
     "metadata": {},
     "output_type": "execute_result"
    }
   ],
   "source": [
    "ideal_port_df = pd.DataFrame({'Ideal portfolio weights':ideal_port_wstar_risk_free_1})\n",
    "ideal_port_df.set_index(data_df2.columns,inplace=True)\n",
    "ideal_port_df"
   ]
  },
  {
   "cell_type": "code",
   "execution_count": 21,
   "id": "45e0490e",
   "metadata": {},
   "outputs": [
    {
     "data": {
      "text/plain": [
       "[<matplotlib.lines.Line2D at 0x7ff7a1d401c0>]"
      ]
     },
     "execution_count": 21,
     "metadata": {},
     "output_type": "execute_result"
    },
    {
     "data": {
      "image/png": "[encoded data removed]",
      "text/plain": [
       "<Figure size 432x288 with 1 Axes>"
      ]
     },
     "metadata": {
      "needs_background": "light"
     },
     "output_type": "display_data"
    }
   ],
   "source": [
    "Efficient_Frontier_Return_P_List = np.arange(1,2.1,0.1)\n",
    "\n",
    "Efficient_Frontier_Return_P_List[0] = Return_MV_port\n",
    "\n",
    "efficient_func = np.vectorize(Variance_P_formula)\n",
    "Efficient_Variance_P_List = efficient_func(alpha,delta,zeta,Efficient_Frontier_Return_P_List,Return_MV_port)\n",
    "SD_Efficient_P_List = np.sqrt(Efficient_Variance_P_List)\n",
    "\n",
    "plt.plot(SD_Efficient_P_List,Efficient_Frontier_Return_P_List)"
   ]
  },
  {
   "cell_type": "code",
   "execution_count": 22,
   "id": "45addc10",
   "metadata": {},
   "outputs": [
    {
     "data": {
      "text/plain": [
       "(103.49100000000003, 46.586966388707054)"
      ]
     },
     "execution_count": 22,
     "metadata": {},
     "output_type": "execute_result"
    }
   ],
   "source": [
    "def portfolio_performance(weights,mean_returns,covariance_matrix,trading_days):\n",
    "    returns = np.sum(mean_returns*weights*trading_days)\n",
    "    std = np.sqrt(   np.dot(weights,   np.dot(cov_matrix,weights))   )*np.sqrt(trading_days)\n",
    "    return returns, std\n",
    "\n",
    "weights = np.array([1/len(data_df2.columns)]*10)\n",
    "trading_days= 120                                                                      \n",
    "\n",
    "returns, std = portfolio_performance(weights,mean_returns,cov_matrix,trading_days)\n",
    "\n",
    "returns, std"
   ]
  },
  {
   "cell_type": "code",
   "execution_count": 23,
   "id": "bbaefe66",
   "metadata": {},
   "outputs": [
    {
     "data": {
      "text/plain": [
       "4.73851209352206"
      ]
     },
     "execution_count": 23,
     "metadata": {},
     "output_type": "execute_result"
    }
   ],
   "source": [
    "a_1 = (np.dot(zeta*Inverse_cov_matrix,E_unit_vector) - np.dot(alpha*Inverse_cov_matrix,R))/(zeta*delta - alpha**2)\n",
    "\n",
    "b_1 = (np.dot(delta*Inverse_cov_matrix,R) - np.dot(alpha*Inverse_cov_matrix,E_unit_vector))/(zeta*delta - alpha**2)\n",
    "\n",
    "sum(a_1+ b_1*ideal_port_wstar_risk_free_1)"
   ]
  },
  {
   "cell_type": "code",
   "execution_count": 24,
   "id": "647f8f30",
   "metadata": {},
   "outputs": [
    {
     "data": {
      "text/plain": [
       "11.294481468962049"
      ]
     },
     "execution_count": 24,
     "metadata": {},
     "output_type": "execute_result"
    }
   ],
   "source": [
    "R_weighted_tanj_portfolio = np.dot(ideal_port_wstar_risk_free_1,data_table['mean'])\n",
    "R_weighted_tanj_portfolio\n",
    "\n",
    "Var_weighted_tanj_portfolio = np.dot( np.dot(ideal_port_wstar_risk_free_1,cov_matrix) ,ideal_port_wstar_risk_free_1)\n",
    "Var_weighted_tanj_portfolio"
   ]
  },
  {
   "cell_type": "code",
   "execution_count": 25,
   "id": "b79e8422",
   "metadata": {},
   "outputs": [],
   "source": [
    "def ideal_port_wstar(alpha,delta,zeta,Inverse_cov_matrix,R,E_unit_vector,target_return):\n",
    "    weight_1 = np.dot((delta*0.1-alpha)/(zeta*delta-alpha**2)*Inverse_cov_matrix,R)\n",
    "    weight_2 = np.dot(np.dot((zeta-alpha*0.1)/(zeta*delta-alpha**2),Inverse_cov_matrix),E_unit_vector)\n",
    "    ideal_port= weight_1+weight_2\n",
    "    return ideal_port\n",
    "\n",
    "ideal_port1 = ideal_port_wstar(alpha,delta,zeta,Inverse_cov_matrix,R,E_unit_vector,0.1)"
   ]
  },
  {
   "cell_type": "code",
   "execution_count": 26,
   "id": "924caa66",
   "metadata": {},
   "outputs": [
    {
     "data": {
      "text/html": [
       "<div>\n",
       "<style scoped>\n",
       "    .dataframe tbody tr th:only-of-type {\n",
       "        vertical-align: middle;\n",
       "    }\n",
       "\n",
       "    .dataframe tbody tr th {\n",
       "        vertical-align: top;\n",
       "    }\n",
       "\n",
       "    .dataframe thead th {\n",
       "        text-align: right;\n",
       "    }\n",
       "</style>\n",
       "<table border=\"1\" class=\"dataframe\">\n",
       "  <thead>\n",
       "    <tr style=\"text-align: right;\">\n",
       "      <th></th>\n",
       "      <th>Ideal portfolio weights</th>\n",
       "    </tr>\n",
       "  </thead>\n",
       "  <tbody>\n",
       "    <tr>\n",
       "      <th>NoDur</th>\n",
       "      <td>0.497726</td>\n",
       "    </tr>\n",
       "    <tr>\n",
       "      <th>Durbl</th>\n",
       "      <td>0.086385</td>\n",
       "    </tr>\n",
       "    <tr>\n",
       "      <th>Manuf</th>\n",
       "      <td>-1.773031</td>\n",
       "    </tr>\n",
       "    <tr>\n",
       "      <th>Enrgy</th>\n",
       "      <td>-0.004593</td>\n",
       "    </tr>\n",
       "    <tr>\n",
       "      <th>HiTec</th>\n",
       "      <td>0.469444</td>\n",
       "    </tr>\n",
       "    <tr>\n",
       "      <th>Telcm</th>\n",
       "      <td>-0.249949</td>\n",
       "    </tr>\n",
       "    <tr>\n",
       "      <th>Shops</th>\n",
       "      <td>-0.165055</td>\n",
       "    </tr>\n",
       "    <tr>\n",
       "      <th>Hlth</th>\n",
       "      <td>0.269184</td>\n",
       "    </tr>\n",
       "    <tr>\n",
       "      <th>Utils</th>\n",
       "      <td>0.657866</td>\n",
       "    </tr>\n",
       "    <tr>\n",
       "      <th>Other</th>\n",
       "      <td>1.212023</td>\n",
       "    </tr>\n",
       "  </tbody>\n",
       "</table>\n",
       "</div>"
      ],
      "text/plain": [
       "       Ideal portfolio weights\n",
       "NoDur                 0.497726\n",
       "Durbl                 0.086385\n",
       "Manuf                -1.773031\n",
       "Enrgy                -0.004593\n",
       "HiTec                 0.469444\n",
       "Telcm                -0.249949\n",
       "Shops                -0.165055\n",
       "Hlth                  0.269184\n",
       "Utils                 0.657866\n",
       "Other                 1.212023"
      ]
     },
     "execution_count": 26,
     "metadata": {},
     "output_type": "execute_result"
    }
   ],
   "source": [
    "ideal_port_df = pd.DataFrame({'Ideal portfolio weights':ideal_port1})\n",
    "ideal_port_df.set_index(data_df2.columns,inplace=True)\n",
    "ideal_port_df"
   ]
  }
 ],
 "metadata": {
  "kernelspec": {
   "display_name": "Python 3",
   "language": "python",
   "name": "python3"
  },
  "language_info": {
   "codemirror_mode": {
    "name": "ipython",
    "version": 3
   },
   "file_extension": ".py",
   "mimetype": "text/x-python",
   "name": "python",
   "nbconvert_exporter": "python",
   "pygments_lexer": "ipython3",
   "version": "3.8.5"
  }
 },
 "nbformat": 4,
 "nbformat_minor": 5
}
