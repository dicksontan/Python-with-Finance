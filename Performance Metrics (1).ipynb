{
 "cells": [
  {
   "cell_type": "code",
   "execution_count": 1,
   "id": "b502fec8",
   "metadata": {},
   "outputs": [],
   "source": [
    "import pandas as pd\n",
    "import numpy as np\n",
    "import datetime as dt\n",
    "import matplotlib.pyplot as plt\n",
    "import statsmodels.api as sm\n",
    "from matplotlib.pyplot import figure\n",
    "from statsmodels.stats.outliers_influence import OLSInfluence\n",
    "from sklearn import linear_model\n",
    "import seaborn as sns"
   ]
  },
  {
   "cell_type": "code",
   "execution_count": 2,
   "id": "1ab0690e",
   "metadata": {},
   "outputs": [
    {
     "name": "stderr",
     "output_type": "stream",
     "text": [
      "/Users/User2/opt/anaconda3/lib/python3.8/site-packages/openpyxl/worksheet/_reader.py:300: UserWarning: Unknown extension is not supported and will be removed\n",
      "  warn(msg)\n"
     ]
    }
   ],
   "source": [
    "Risk_Factors_df = pd.read_excel('Risk_Factors.xlsx')\n",
    "market_df = pd.read_excel('Market_Portfolio.xlsx')\n",
    "industry_df = pd.read_excel('Industry_Portfolios.xlsx')"
   ]
  },
  {
   "cell_type": "code",
   "execution_count": 3,
   "id": "ae1a189c",
   "metadata": {},
   "outputs": [],
   "source": [
    "industry_df2 = industry_df.iloc[:,1:].copy()\n",
    "industry_minus_rf_df = industry_df2.sub(Risk_Factors_df['Rf'],axis=0)"
   ]
  },
  {
   "cell_type": "code",
   "execution_count": 12,
   "id": "39977a39",
   "metadata": {},
   "outputs": [],
   "source": [
    "my_columns = ['Industry','Intercept','Slope']\n",
    "params_table = pd.DataFrame(columns = my_columns)\n",
    "\n",
    "def Ols_result(dependent_df,independent_df,params_table):\n",
    "    for x in dependent_df.columns:\n",
    "        dep_var = dependent_df[x]\n",
    "        indep_var = independent_df\n",
    "        indep_var_const = sm.add_constant(independent_df)\n",
    "        \n",
    "        model = sm.OLS(dep_var,indep_var_const)\n",
    "        result = model.fit()\n",
    "        \n",
    "        a,b = result.params\n",
    "        params_table = params_table.append(pd.Series([x,a,b],index=my_columns),ignore_index=True)\n",
    "        \n",
    "        #print(result.summary())\n",
    "        #display(result.params)\n",
    "        \n",
    "        #my_plot = plt.figure()\n",
    "        #my_plot = plt.plot(indep_var,dep_var,'ro')\n",
    "        #my_plot = plt.plot(indep_var,result.fittedvalues, label = f'{x}')\n",
    "        #plt.legend()\n",
    "        \n",
    "    return (params_table)"
   ]
  },
  {
   "cell_type": "code",
   "execution_count": 13,
   "id": "e7973ce0",
   "metadata": {},
   "outputs": [
    {
     "name": "stderr",
     "output_type": "stream",
     "text": [
      "/Users/User2/opt/anaconda3/lib/python3.8/site-packages/statsmodels/tsa/tsatools.py:142: FutureWarning: In a future version of pandas all arguments of concat except for the argument 'objs' will be keyword-only\n",
      "  x = pd.concat(x[::order], 1)\n"
     ]
    }
   ],
   "source": [
    "params_table1 = Ols_result(industry_minus_rf_df,Risk_Factors_df['Rm-Rf'],params_table)"
   ]
  },
  {
   "cell_type": "code",
   "execution_count": 15,
   "id": "248cff4c",
   "metadata": {
    "scrolled": true
   },
   "outputs": [
    {
     "data": {
      "text/html": [
       "<div>\n",
       "<style scoped>\n",
       "    .dataframe tbody tr th:only-of-type {\n",
       "        vertical-align: middle;\n",
       "    }\n",
       "\n",
       "    .dataframe tbody tr th {\n",
       "        vertical-align: top;\n",
       "    }\n",
       "\n",
       "    .dataframe thead th {\n",
       "        text-align: right;\n",
       "    }\n",
       "</style>\n",
       "<table border=\"1\" class=\"dataframe\">\n",
       "  <thead>\n",
       "    <tr style=\"text-align: right;\">\n",
       "      <th></th>\n",
       "      <th>Industry</th>\n",
       "      <th>Intercept</th>\n",
       "      <th>Slope</th>\n",
       "    </tr>\n",
       "  </thead>\n",
       "  <tbody>\n",
       "    <tr>\n",
       "      <th>0</th>\n",
       "      <td>NoDur</td>\n",
       "      <td>0.369717</td>\n",
       "      <td>0.653744</td>\n",
       "    </tr>\n",
       "    <tr>\n",
       "      <th>1</th>\n",
       "      <td>Durbl</td>\n",
       "      <td>-0.417903</td>\n",
       "      <td>1.649374</td>\n",
       "    </tr>\n",
       "    <tr>\n",
       "      <th>2</th>\n",
       "      <td>Manuf</td>\n",
       "      <td>0.160494</td>\n",
       "      <td>1.167929</td>\n",
       "    </tr>\n",
       "    <tr>\n",
       "      <th>3</th>\n",
       "      <td>Enrgy</td>\n",
       "      <td>0.504485</td>\n",
       "      <td>0.965527</td>\n",
       "    </tr>\n",
       "    <tr>\n",
       "      <th>4</th>\n",
       "      <td>HiTec</td>\n",
       "      <td>-0.064024</td>\n",
       "      <td>1.132387</td>\n",
       "    </tr>\n",
       "    <tr>\n",
       "      <th>5</th>\n",
       "      <td>Telcm</td>\n",
       "      <td>0.194348</td>\n",
       "      <td>0.901721</td>\n",
       "    </tr>\n",
       "    <tr>\n",
       "      <th>6</th>\n",
       "      <td>Shops</td>\n",
       "      <td>0.274093</td>\n",
       "      <td>0.829515</td>\n",
       "    </tr>\n",
       "    <tr>\n",
       "      <th>7</th>\n",
       "      <td>Hlth</td>\n",
       "      <td>0.236968</td>\n",
       "      <td>0.675890</td>\n",
       "    </tr>\n",
       "    <tr>\n",
       "      <th>8</th>\n",
       "      <td>Utils</td>\n",
       "      <td>0.446523</td>\n",
       "      <td>0.537009</td>\n",
       "    </tr>\n",
       "    <tr>\n",
       "      <th>9</th>\n",
       "      <td>Other</td>\n",
       "      <td>-0.387508</td>\n",
       "      <td>1.206992</td>\n",
       "    </tr>\n",
       "  </tbody>\n",
       "</table>\n",
       "</div>"
      ],
      "text/plain": [
       "  Industry  Intercept     Slope\n",
       "0    NoDur   0.369717  0.653744\n",
       "1    Durbl  -0.417903  1.649374\n",
       "2    Manuf   0.160494  1.167929\n",
       "3    Enrgy   0.504485  0.965527\n",
       "4    HiTec  -0.064024  1.132387\n",
       "5    Telcm   0.194348  0.901721\n",
       "6    Shops   0.274093  0.829515\n",
       "7     Hlth   0.236968  0.675890\n",
       "8    Utils   0.446523  0.537009\n",
       "9    Other  -0.387508  1.206992"
      ]
     },
     "execution_count": 15,
     "metadata": {},
     "output_type": "execute_result"
    }
   ],
   "source": [
    "params_table1"
   ]
  },
  {
   "cell_type": "code",
   "execution_count": 23,
   "id": "336574da",
   "metadata": {},
   "outputs": [
    {
     "data": {
      "text/plain": [
       "NoDur    1.186372\n",
       "Durbl    0.367463\n",
       "Manuf    0.758251\n",
       "Enrgy    1.143330\n",
       "HiTec    0.564295\n",
       "Telcm    0.836363\n",
       "Shops    0.951258\n",
       "Hlth     0.971435\n",
       "Utils    1.452334\n",
       "Other    0.299781\n",
       "dtype: float64"
      ]
     },
     "execution_count": 23,
     "metadata": {},
     "output_type": "execute_result"
    }
   ],
   "source": [
    "Treynor_Ratio = industry_minus_rf_df.mean()/(params_table1['Slope'].values)\n",
    "Treynor_Ratio"
   ]
  },
  {
   "cell_type": "code",
   "execution_count": 24,
   "id": "5c518c3a",
   "metadata": {},
   "outputs": [
    {
     "data": {
      "text/plain": [
       "NoDur    0.232068\n",
       "Durbl    0.072659\n",
       "Manuf    0.167315\n",
       "Enrgy    0.182470\n",
       "HiTec    0.119050\n",
       "Telcm    0.169773\n",
       "Shops    0.192557\n",
       "Hlth     0.173253\n",
       "Utils    0.211832\n",
       "Other    0.064964\n",
       "dtype: float64"
      ]
     },
     "execution_count": 24,
     "metadata": {},
     "output_type": "execute_result"
    }
   ],
   "source": [
    "sharpe_ratio = industry_minus_rf_df.mean()/np.std(industry_minus_rf_df)\n",
    "sharpe_ratio"
   ]
  },
  {
   "cell_type": "code",
   "execution_count": 18,
   "id": "827b52d9",
   "metadata": {},
   "outputs": [],
   "source": [
    "target = Risk_Factors_df['Rf']\n",
    "sortino_temp1 = industry_df2.sub(target,axis=0)\n",
    "sortino_temp2 = sortino_temp1.applymap(lambda x: x if x<0 else 0)\n",
    "sortino_temp3 = (sortino_temp2**2).mean()"
   ]
  },
  {
   "cell_type": "code",
   "execution_count": 25,
   "id": "4a0dff48",
   "metadata": {},
   "outputs": [
    {
     "data": {
      "text/plain": [
       "NoDur    0.350804\n",
       "Durbl    0.111967\n",
       "Manuf    0.241260\n",
       "Enrgy    0.273612\n",
       "HiTec    0.170620\n",
       "Telcm    0.244940\n",
       "Shops    0.293032\n",
       "Hlth     0.270294\n",
       "Utils    0.290044\n",
       "Other    0.087351\n",
       "dtype: float64"
      ]
     },
     "execution_count": 25,
     "metadata": {},
     "output_type": "execute_result"
    }
   ],
   "source": [
    "Sortino_ratio = sortino_temp1.mean()/np.sqrt(sortino_temp3)\n",
    "Sortino_ratio"
   ]
  },
  {
   "cell_type": "code",
   "execution_count": 26,
   "id": "e11225dc",
   "metadata": {},
   "outputs": [
    {
     "data": {
      "text/plain": [
       "NoDur    0.369717\n",
       "Durbl   -0.417903\n",
       "Manuf    0.160494\n",
       "Enrgy    0.504485\n",
       "HiTec   -0.064024\n",
       "Telcm    0.194348\n",
       "Shops    0.274093\n",
       "Hlth     0.236968\n",
       "Utils    0.446523\n",
       "Other   -0.387508\n",
       "dtype: float64"
      ]
     },
     "execution_count": 26,
     "metadata": {},
     "output_type": "execute_result"
    }
   ],
   "source": [
    "Jensen_Alpha = industry_minus_rf_df.mean()-(params_table1['Slope']*Risk_Factors_df['Rm-Rf'].mean()).values\n",
    "Jensen_Alpha"
   ]
  },
  {
   "cell_type": "code",
   "execution_count": 38,
   "id": "28aa6894",
   "metadata": {},
   "outputs": [],
   "source": [
    "my_columns = ['Y_Intercept','market_risk_slope','size_risk_slope','value_risk_slope']\n",
    "params_table = pd.DataFrame(columns = my_columns)\n",
    "\n",
    "def Fama_multiple_regression(independent_df,independent_list,dependent_df,dependent_list,params_table):\n",
    "    for x in dependent_list:\n",
    "        model = linear_model.LinearRegression()\n",
    "        model.fit(independent_df[independent_list],dependent_df[x])\n",
    "        a,b,c = model.coef_\n",
    "        y = model.intercept_\n",
    "        params_table = params_table.append(pd.Series((y,a,b,c),index=my_columns),ignore_index=True)\n",
    "    params_table.index = dependent_list\n",
    "    return params_table"
   ]
  },
  {
   "cell_type": "code",
   "execution_count": 41,
   "id": "5f414642",
   "metadata": {},
   "outputs": [
    {
     "data": {
      "text/html": [
       "<div>\n",
       "<style scoped>\n",
       "    .dataframe tbody tr th:only-of-type {\n",
       "        vertical-align: middle;\n",
       "    }\n",
       "\n",
       "    .dataframe tbody tr th {\n",
       "        vertical-align: top;\n",
       "    }\n",
       "\n",
       "    .dataframe thead th {\n",
       "        text-align: right;\n",
       "    }\n",
       "</style>\n",
       "<table border=\"1\" class=\"dataframe\">\n",
       "  <thead>\n",
       "    <tr style=\"text-align: right;\">\n",
       "      <th></th>\n",
       "      <th>Y_Intercept</th>\n",
       "      <th>market_risk_slope</th>\n",
       "      <th>size_risk_slope</th>\n",
       "      <th>value_risk_slope</th>\n",
       "    </tr>\n",
       "  </thead>\n",
       "  <tbody>\n",
       "    <tr>\n",
       "      <th>NoDur</th>\n",
       "      <td>0.386704</td>\n",
       "      <td>0.712134</td>\n",
       "      <td>-0.229102</td>\n",
       "      <td>-0.023342</td>\n",
       "    </tr>\n",
       "    <tr>\n",
       "      <th>Durbl</th>\n",
       "      <td>-0.474342</td>\n",
       "      <td>1.447452</td>\n",
       "      <td>0.670878</td>\n",
       "      <td>0.240949</td>\n",
       "    </tr>\n",
       "    <tr>\n",
       "      <th>Manuf</th>\n",
       "      <td>0.153285</td>\n",
       "      <td>1.142282</td>\n",
       "      <td>0.087388</td>\n",
       "      <td>0.027727</td>\n",
       "    </tr>\n",
       "    <tr>\n",
       "      <th>Enrgy</th>\n",
       "      <td>0.523007</td>\n",
       "      <td>1.028354</td>\n",
       "      <td>-0.259360</td>\n",
       "      <td>-0.008158</td>\n",
       "    </tr>\n",
       "    <tr>\n",
       "      <th>HiTec</th>\n",
       "      <td>-0.065979</td>\n",
       "      <td>1.152803</td>\n",
       "      <td>0.335674</td>\n",
       "      <td>-0.556947</td>\n",
       "    </tr>\n",
       "    <tr>\n",
       "      <th>Telcm</th>\n",
       "      <td>0.200724</td>\n",
       "      <td>0.924137</td>\n",
       "      <td>-0.080299</td>\n",
       "      <td>-0.019063</td>\n",
       "    </tr>\n",
       "    <tr>\n",
       "      <th>Shops</th>\n",
       "      <td>0.255941</td>\n",
       "      <td>0.770227</td>\n",
       "      <td>0.280191</td>\n",
       "      <td>-0.039080</td>\n",
       "    </tr>\n",
       "    <tr>\n",
       "      <th>Hlth</th>\n",
       "      <td>0.257472</td>\n",
       "      <td>0.751976</td>\n",
       "      <td>-0.212655</td>\n",
       "      <td>-0.143765</td>\n",
       "    </tr>\n",
       "    <tr>\n",
       "      <th>Utils</th>\n",
       "      <td>0.474411</td>\n",
       "      <td>0.631827</td>\n",
       "      <td>-0.387961</td>\n",
       "      <td>-0.016881</td>\n",
       "    </tr>\n",
       "    <tr>\n",
       "      <th>Other</th>\n",
       "      <td>-0.404412</td>\n",
       "      <td>1.123473</td>\n",
       "      <td>-0.061676</td>\n",
       "      <td>0.547325</td>\n",
       "    </tr>\n",
       "  </tbody>\n",
       "</table>\n",
       "</div>"
      ],
      "text/plain": [
       "       Y_Intercept  market_risk_slope  size_risk_slope  value_risk_slope\n",
       "NoDur     0.386704           0.712134        -0.229102         -0.023342\n",
       "Durbl    -0.474342           1.447452         0.670878          0.240949\n",
       "Manuf     0.153285           1.142282         0.087388          0.027727\n",
       "Enrgy     0.523007           1.028354        -0.259360         -0.008158\n",
       "HiTec    -0.065979           1.152803         0.335674         -0.556947\n",
       "Telcm     0.200724           0.924137        -0.080299         -0.019063\n",
       "Shops     0.255941           0.770227         0.280191         -0.039080\n",
       "Hlth      0.257472           0.751976        -0.212655         -0.143765\n",
       "Utils     0.474411           0.631827        -0.387961         -0.016881\n",
       "Other    -0.404412           1.123473        -0.061676          0.547325"
      ]
     },
     "execution_count": 41,
     "metadata": {},
     "output_type": "execute_result"
    }
   ],
   "source": [
    "Fama_params_table2 = Fama_multiple_regression(Risk_Factors_df,['Rm-Rf','SMB','HML'],industry_minus_rf_df,industry_df2.columns,params_table)\n",
    "\n",
    "Fama_params_table2"
   ]
  },
  {
   "cell_type": "code",
   "execution_count": 42,
   "id": "13d6bf8a",
   "metadata": {},
   "outputs": [],
   "source": [
    "performance_metrics_df = pd.DataFrame({'Sharpe_Ratio':sharpe_ratio,\n",
    "                                       'Sortino_Ratio':Sortino_ratio,\n",
    "                                       'Treynor_Ratio':Treynor_Ratio,\n",
    "                                       \"Jensen's_\\u03B1\":Jensen_Alpha,\n",
    "                                       'Three-factor_α': Fama_params_table2['Y_Intercept']\n",
    "                                      })"
   ]
  },
  {
   "cell_type": "code",
   "execution_count": 58,
   "id": "af9fb718",
   "metadata": {},
   "outputs": [
    {
     "data": {
      "text/html": [
       "<div>\n",
       "<style scoped>\n",
       "    .dataframe tbody tr th:only-of-type {\n",
       "        vertical-align: middle;\n",
       "    }\n",
       "\n",
       "    .dataframe tbody tr th {\n",
       "        vertical-align: top;\n",
       "    }\n",
       "\n",
       "    .dataframe thead th {\n",
       "        text-align: right;\n",
       "    }\n",
       "</style>\n",
       "<table border=\"1\" class=\"dataframe\">\n",
       "  <thead>\n",
       "    <tr style=\"text-align: right;\">\n",
       "      <th></th>\n",
       "      <th>Sharpe_Ratio</th>\n",
       "      <th>Sortino_Ratio</th>\n",
       "      <th>Treynor_Ratio</th>\n",
       "      <th>Jensen's_α</th>\n",
       "      <th>Three-factor_α</th>\n",
       "    </tr>\n",
       "  </thead>\n",
       "  <tbody>\n",
       "    <tr>\n",
       "      <th>NoDur</th>\n",
       "      <td>0.232068</td>\n",
       "      <td>0.350804</td>\n",
       "      <td>1.186372</td>\n",
       "      <td>0.369717</td>\n",
       "      <td>0.386704</td>\n",
       "    </tr>\n",
       "    <tr>\n",
       "      <th>Durbl</th>\n",
       "      <td>0.072659</td>\n",
       "      <td>0.111967</td>\n",
       "      <td>0.367463</td>\n",
       "      <td>-0.417903</td>\n",
       "      <td>-0.474342</td>\n",
       "    </tr>\n",
       "    <tr>\n",
       "      <th>Manuf</th>\n",
       "      <td>0.167315</td>\n",
       "      <td>0.241260</td>\n",
       "      <td>0.758251</td>\n",
       "      <td>0.160494</td>\n",
       "      <td>0.153285</td>\n",
       "    </tr>\n",
       "    <tr>\n",
       "      <th>Enrgy</th>\n",
       "      <td>0.182470</td>\n",
       "      <td>0.273612</td>\n",
       "      <td>1.143330</td>\n",
       "      <td>0.504485</td>\n",
       "      <td>0.523007</td>\n",
       "    </tr>\n",
       "    <tr>\n",
       "      <th>HiTec</th>\n",
       "      <td>0.119050</td>\n",
       "      <td>0.170620</td>\n",
       "      <td>0.564295</td>\n",
       "      <td>-0.064024</td>\n",
       "      <td>-0.065979</td>\n",
       "    </tr>\n",
       "    <tr>\n",
       "      <th>Telcm</th>\n",
       "      <td>0.169773</td>\n",
       "      <td>0.244940</td>\n",
       "      <td>0.836363</td>\n",
       "      <td>0.194348</td>\n",
       "      <td>0.200724</td>\n",
       "    </tr>\n",
       "    <tr>\n",
       "      <th>Shops</th>\n",
       "      <td>0.192557</td>\n",
       "      <td>0.293032</td>\n",
       "      <td>0.951258</td>\n",
       "      <td>0.274093</td>\n",
       "      <td>0.255941</td>\n",
       "    </tr>\n",
       "    <tr>\n",
       "      <th>Hlth</th>\n",
       "      <td>0.173253</td>\n",
       "      <td>0.270294</td>\n",
       "      <td>0.971435</td>\n",
       "      <td>0.236968</td>\n",
       "      <td>0.257472</td>\n",
       "    </tr>\n",
       "    <tr>\n",
       "      <th>Utils</th>\n",
       "      <td>0.211832</td>\n",
       "      <td>0.290044</td>\n",
       "      <td>1.452334</td>\n",
       "      <td>0.446523</td>\n",
       "      <td>0.474411</td>\n",
       "    </tr>\n",
       "    <tr>\n",
       "      <th>Other</th>\n",
       "      <td>0.064964</td>\n",
       "      <td>0.087351</td>\n",
       "      <td>0.299781</td>\n",
       "      <td>-0.387508</td>\n",
       "      <td>-0.404412</td>\n",
       "    </tr>\n",
       "  </tbody>\n",
       "</table>\n",
       "</div>"
      ],
      "text/plain": [
       "       Sharpe_Ratio  Sortino_Ratio  Treynor_Ratio  Jensen's_α  Three-factor_α\n",
       "NoDur      0.232068       0.350804       1.186372    0.369717        0.386704\n",
       "Durbl      0.072659       0.111967       0.367463   -0.417903       -0.474342\n",
       "Manuf      0.167315       0.241260       0.758251    0.160494        0.153285\n",
       "Enrgy      0.182470       0.273612       1.143330    0.504485        0.523007\n",
       "HiTec      0.119050       0.170620       0.564295   -0.064024       -0.065979\n",
       "Telcm      0.169773       0.244940       0.836363    0.194348        0.200724\n",
       "Shops      0.192557       0.293032       0.951258    0.274093        0.255941\n",
       "Hlth       0.173253       0.270294       0.971435    0.236968        0.257472\n",
       "Utils      0.211832       0.290044       1.452334    0.446523        0.474411\n",
       "Other      0.064964       0.087351       0.299781   -0.387508       -0.404412"
      ]
     },
     "execution_count": 58,
     "metadata": {},
     "output_type": "execute_result"
    }
   ],
   "source": [
    "performance_metrics_df "
   ]
  },
  {
   "cell_type": "code",
   "execution_count": 57,
   "id": "9e56a979",
   "metadata": {},
   "outputs": [
    {
     "data": {
      "image/png": "[encoded data removed]",
      "text/plain": [
       "<Figure size 432x288 with 1 Axes>"
      ]
     },
     "metadata": {
      "needs_background": "light"
     },
     "output_type": "display_data"
    }
   ],
   "source": [
    "sns.barplot(x = performance_metrics_df.index,y = 'Sharpe_Ratio', data = performance_metrics_df)\n",
    "plt.title('Sharpe Ratio')\n",
    "plt.ylabel('')\n",
    "plt.show()"
   ]
  },
  {
   "cell_type": "code",
   "execution_count": 56,
   "id": "8c952963",
   "metadata": {},
   "outputs": [
    {
     "data": {
      "image/png": "[encoded data removed]",
      "text/plain": [
       "<Figure size 432x288 with 1 Axes>"
      ]
     },
     "metadata": {
      "needs_background": "light"
     },
     "output_type": "display_data"
    }
   ],
   "source": [
    "sns.barplot(x = performance_metrics_df.index,y = 'Sortino_Ratio', data = performance_metrics_df)\n",
    "plt.title('Sortino Ratio')\n",
    "plt.ylabel('')\n",
    "plt.show()"
   ]
  },
  {
   "cell_type": "code",
   "execution_count": 55,
   "id": "38c15f60",
   "metadata": {},
   "outputs": [
    {
     "data": {
      "image/png": "[encoded data removed]",
      "text/plain": [
       "<Figure size 432x288 with 1 Axes>"
      ]
     },
     "metadata": {
      "needs_background": "light"
     },
     "output_type": "display_data"
    }
   ],
   "source": [
    "sns.barplot(x = performance_metrics_df.index,y = 'Treynor_Ratio', data = performance_metrics_df)\n",
    "plt.title('Treynor Ratio')\n",
    "plt.ylabel('')\n",
    "plt.show()"
   ]
  },
  {
   "cell_type": "code",
   "execution_count": 54,
   "id": "ce6059aa",
   "metadata": {},
   "outputs": [
    {
     "data": {
      "image/png": "[encoded data removed]",
      "text/plain": [
       "<Figure size 432x288 with 1 Axes>"
      ]
     },
     "metadata": {
      "needs_background": "light"
     },
     "output_type": "display_data"
    }
   ],
   "source": [
    "sns.barplot(x = performance_metrics_df.index,y = \"Jensen's_\\u03B1\", data = performance_metrics_df)\n",
    "plt.title(\"Jensen's \\u03B1\")\n",
    "plt.ylabel('')\n",
    "plt.show()"
   ]
  },
  {
   "cell_type": "code",
   "execution_count": 53,
   "id": "7092f166",
   "metadata": {},
   "outputs": [
    {
     "data": {
      "image/png": "[encoded data removed]",
      "text/plain": [
       "<Figure size 432x288 with 1 Axes>"
      ]
     },
     "metadata": {
      "needs_background": "light"
     },
     "output_type": "display_data"
    }
   ],
   "source": [
    "sns.barplot(x = performance_metrics_df.index,y = \"Three-factor_α\", data = performance_metrics_df)\n",
    "plt.title(\"Three-factor α\")\n",
    "plt.ylabel('')\n",
    "plt.show()"
   ]
  }
 ],
 "metadata": {
  "kernelspec": {
   "display_name": "Python 3",
   "language": "python",
   "name": "python3"
  },
  "language_info": {
   "codemirror_mode": {
    "name": "ipython",
    "version": 3
   },
   "file_extension": ".py",
   "mimetype": "text/x-python",
   "name": "python",
   "nbconvert_exporter": "python",
   "pygments_lexer": "ipython3",
   "version": "3.8.5"
  }
 },
 "nbformat": 4,
 "nbformat_minor": 5
}
