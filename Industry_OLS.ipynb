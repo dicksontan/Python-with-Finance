{
 "cells": [
  {
   "cell_type": "code",
   "execution_count": 1,
   "id": "c42e0a6a",
   "metadata": {},
   "outputs": [],
   "source": [
    "import pandas as pd\n",
    "import numpy as np\n",
    "import datetime as dt\n",
    "import matplotlib.pyplot as plt\n",
    "import statsmodels.api as sm\n",
    "from matplotlib.pyplot import figure\n",
    "from statsmodels.stats.outliers_influence import OLSInfluence"
   ]
  },
  {
   "cell_type": "code",
   "execution_count": 2,
   "id": "651e1880",
   "metadata": {},
   "outputs": [
    {
     "name": "stderr",
     "output_type": "stream",
     "text": [
      "/Users/User2/opt/anaconda3/lib/python3.8/site-packages/openpyxl/worksheet/_reader.py:300: UserWarning: Unknown extension is not supported and will be removed\n",
      "  warn(msg)\n"
     ]
    }
   ],
   "source": [
    "market_df = pd.read_excel('Market_Portfolio.xlsx')\n",
    "industry_df = pd.read_excel('Industry_Portfolios.xlsx')"
   ]
  },
  {
   "cell_type": "code",
   "execution_count": 3,
   "id": "14c8f4f8",
   "metadata": {},
   "outputs": [],
   "source": [
    "treynor_market_mean = market_df.mean()[1]\n",
    "industry_df_treynor = industry_df.iloc[:,1:].copy()"
   ]
  },
  {
   "cell_type": "code",
   "execution_count": 4,
   "id": "e1cff671",
   "metadata": {},
   "outputs": [
    {
     "data": {
      "text/plain": [
       "Date      200856.500000\n",
       "Market         0.748083\n",
       "dtype: float64"
      ]
     },
     "execution_count": 4,
     "metadata": {},
     "output_type": "execute_result"
    }
   ],
   "source": [
    "market_df.mean()"
   ]
  },
  {
   "cell_type": "code",
   "execution_count": 5,
   "id": "c443bc2b",
   "metadata": {},
   "outputs": [],
   "source": [
    "market_df2 = market_df[['Market']].copy()-0.13"
   ]
  },
  {
   "cell_type": "code",
   "execution_count": 6,
   "id": "2e66f57d",
   "metadata": {},
   "outputs": [
    {
     "data": {
      "text/plain": [
       "NoDur    0.772833\n",
       "Durbl    0.603333\n",
       "Manuf    0.882833\n",
       "Enrgy    1.101167\n",
       "HiTec    0.636250\n",
       "Telcm    0.751417\n",
       "Shops    0.786333\n",
       "Hlth     0.653833\n",
       "Utils    0.777167\n",
       "Other    0.359083\n",
       "dtype: float64"
      ]
     },
     "execution_count": 6,
     "metadata": {},
     "output_type": "execute_result"
    }
   ],
   "source": [
    "industry_df2 = industry_df.iloc[:,1:].copy()-0.13\n",
    "industry_df2.mean()"
   ]
  },
  {
   "cell_type": "code",
   "execution_count": 7,
   "id": "ec424067",
   "metadata": {},
   "outputs": [
    {
     "name": "stderr",
     "output_type": "stream",
     "text": [
      "/Users/User2/opt/anaconda3/lib/python3.8/site-packages/statsmodels/tsa/tsatools.py:142: FutureWarning: In a future version of pandas all arguments of concat except for the argument 'objs' will be keyword-only\n",
      "  x = pd.concat(x[::order], 1)\n"
     ]
    },
    {
     "name": "stdout",
     "output_type": "stream",
     "text": [
      "                            OLS Regression Results                            \n",
      "==============================================================================\n",
      "Dep. Variable:                  NoDur   R-squared:                       0.717\n",
      "Model:                            OLS   Adj. R-squared:                  0.715\n",
      "Method:                 Least Squares   F-statistic:                     299.2\n",
      "Date:                Thu, 04 Nov 2021   Prob (F-statistic):           3.76e-34\n",
      "Time:                        09:31:51   Log-Likelihood:                -238.91\n",
      "No. Observations:                 120   AIC:                             481.8\n",
      "Df Residuals:                     118   BIC:                             487.4\n",
      "Df Model:                           1                                         \n",
      "Covariance Type:            nonrobust                                         \n",
      "==============================================================================\n",
      "                 coef    std err          t      P>|t|      [0.025      0.975]\n",
      "------------------------------------------------------------------------------\n",
      "const          0.3694      0.165      2.242      0.027       0.043       0.696\n",
      "Market         0.6526      0.038     17.298      0.000       0.578       0.727\n",
      "==============================================================================\n",
      "Omnibus:                        4.017   Durbin-Watson:                   2.249\n",
      "Prob(Omnibus):                  0.134   Jarque-Bera (JB):                4.043\n",
      "Skew:                          -0.438   Prob(JB):                        0.132\n",
      "Kurtosis:                       2.793   Cond. No.                         4.42\n",
      "==============================================================================\n",
      "\n",
      "Notes:\n",
      "[1] Standard Errors assume that the covariance matrix of the errors is correctly specified.\n"
     ]
    },
    {
     "data": {
      "image/png": "[encoded data removed]",
      "text/plain": [
       "<Figure size 432x288 with 1 Axes>"
      ]
     },
     "metadata": {
      "needs_background": "light"
     },
     "output_type": "display_data"
    }
   ],
   "source": [
    "#for 1 result only\n",
    "dep_var = industry_df2['NoDur']\n",
    "indep_var = market_df2\n",
    "indep_var_const = sm.add_constant(market_df2)\n",
    "\n",
    "model = sm.OLS(dep_var,indep_var_const)\n",
    "result = model.fit()\n",
    "print(result.summary())\n",
    "\n",
    "my_plot = plt.figure()\n",
    "my_plot = plt.plot(indep_var,dep_var,'ro')\n",
    "my_plot = plt.plot(indep_var,result.fittedvalues, label = 'NoDur OLS')\n",
    "plt.legend()\n",
    "\n",
    "standardized_residuals = result.get_influence().resid_studentized_internal"
   ]
  },
  {
   "cell_type": "code",
   "execution_count": 8,
   "id": "ea5dacdd",
   "metadata": {},
   "outputs": [],
   "source": [
    "my_columns = ['Industry','Intercept','Slope']\n",
    "params_table = pd.DataFrame(columns = my_columns)\n",
    "\n",
    "def Ols_result(dependent_df,independent_df,params_table):\n",
    "    for x in dependent_df.columns:\n",
    "        dep_var = dependent_df[x]\n",
    "        indep_var = independent_df\n",
    "        indep_var_const = sm.add_constant(independent_df)\n",
    "        \n",
    "        model = sm.OLS(dep_var,indep_var_const)\n",
    "        result = model.fit()\n",
    "        \n",
    "        a,b = result.params\n",
    "        params_table = params_table.append(pd.Series([x,a,b],index=my_columns),ignore_index=True)\n",
    "        \n",
    "        print(result.summary())\n",
    "        display(result.params)\n",
    "        \n",
    "        my_plot = plt.figure()\n",
    "        my_plot = plt.plot(indep_var,dep_var,'ro')\n",
    "        my_plot = plt.plot(indep_var,result.fittedvalues, label = f'{x}')\n",
    "        plt.legend()\n",
    "        \n",
    "    return (params_table)"
   ]
  },
  {
   "cell_type": "code",
   "execution_count": 9,
   "id": "03077276",
   "metadata": {},
   "outputs": [
    {
     "name": "stdout",
     "output_type": "stream",
     "text": [
      "                            OLS Regression Results                            \n",
      "==============================================================================\n",
      "Dep. Variable:                  NoDur   R-squared:                       0.717\n",
      "Model:                            OLS   Adj. R-squared:                  0.715\n",
      "Method:                 Least Squares   F-statistic:                     299.2\n",
      "Date:                Thu, 04 Nov 2021   Prob (F-statistic):           3.76e-34\n",
      "Time:                        09:31:51   Log-Likelihood:                -238.91\n",
      "No. Observations:                 120   AIC:                             481.8\n",
      "Df Residuals:                     118   BIC:                             487.4\n",
      "Df Model:                           1                                         \n",
      "Covariance Type:            nonrobust                                         \n",
      "==============================================================================\n",
      "                 coef    std err          t      P>|t|      [0.025      0.975]\n",
      "------------------------------------------------------------------------------\n",
      "const          0.3694      0.165      2.242      0.027       0.043       0.696\n",
      "Market         0.6526      0.038     17.298      0.000       0.578       0.727\n",
      "==============================================================================\n",
      "Omnibus:                        4.017   Durbin-Watson:                   2.249\n",
      "Prob(Omnibus):                  0.134   Jarque-Bera (JB):                4.043\n",
      "Skew:                          -0.438   Prob(JB):                        0.132\n",
      "Kurtosis:                       2.793   Cond. No.                         4.42\n",
      "==============================================================================\n",
      "\n",
      "Notes:\n",
      "[1] Standard Errors assume that the covariance matrix of the errors is correctly specified.\n"
     ]
    },
    {
     "name": "stderr",
     "output_type": "stream",
     "text": [
      "/Users/User2/opt/anaconda3/lib/python3.8/site-packages/statsmodels/tsa/tsatools.py:142: FutureWarning: In a future version of pandas all arguments of concat except for the argument 'objs' will be keyword-only\n",
      "  x = pd.concat(x[::order], 1)\n"
     ]
    },
    {
     "data": {
      "text/plain": [
       "const     0.369443\n",
       "Market    0.652647\n",
       "dtype: float64"
      ]
     },
     "metadata": {},
     "output_type": "display_data"
    },
    {
     "name": "stdout",
     "output_type": "stream",
     "text": [
      "                            OLS Regression Results                            \n",
      "==============================================================================\n",
      "Dep. Variable:                  Durbl   R-squared:                       0.733\n",
      "Model:                            OLS   Adj. R-squared:                  0.730\n",
      "Method:                 Least Squares   F-statistic:                     323.2\n",
      "Date:                Thu, 04 Nov 2021   Prob (F-statistic):           1.38e-35\n",
      "Time:                        09:31:51   Log-Likelihood:                -345.49\n",
      "No. Observations:                 120   AIC:                             695.0\n",
      "Df Residuals:                     118   BIC:                             700.6\n",
      "Df Model:                           1                                         \n",
      "Covariance Type:            nonrobust                                         \n",
      "==============================================================================\n",
      "                 coef    std err          t      P>|t|      [0.025      0.975]\n",
      "------------------------------------------------------------------------------\n",
      "const         -0.4156      0.400     -1.038      0.302      -1.209       0.377\n",
      "Market         1.6485      0.092     17.977      0.000       1.467       1.830\n",
      "==============================================================================\n",
      "Omnibus:                       71.016   Durbin-Watson:                   2.275\n",
      "Prob(Omnibus):                  0.000   Jarque-Bera (JB):              621.417\n",
      "Skew:                           1.766   Prob(JB):                    1.15e-135\n",
      "Kurtosis:                      13.574   Cond. No.                         4.42\n",
      "==============================================================================\n",
      "\n",
      "Notes:\n",
      "[1] Standard Errors assume that the covariance matrix of the errors is correctly specified.\n"
     ]
    },
    {
     "name": "stderr",
     "output_type": "stream",
     "text": [
      "/Users/User2/opt/anaconda3/lib/python3.8/site-packages/statsmodels/tsa/tsatools.py:142: FutureWarning: In a future version of pandas all arguments of concat except for the argument 'objs' will be keyword-only\n",
      "  x = pd.concat(x[::order], 1)\n"
     ]
    },
    {
     "data": {
      "text/plain": [
       "const    -0.415599\n",
       "Market    1.648536\n",
       "dtype: float64"
      ]
     },
     "metadata": {},
     "output_type": "display_data"
    },
    {
     "name": "stdout",
     "output_type": "stream",
     "text": [
      "                            OLS Regression Results                            \n",
      "==============================================================================\n",
      "Dep. Variable:                  Manuf   R-squared:                       0.915\n",
      "Model:                            OLS   Adj. R-squared:                  0.914\n",
      "Method:                 Least Squares   F-statistic:                     1265.\n",
      "Date:                Thu, 04 Nov 2021   Prob (F-statistic):           6.69e-65\n",
      "Time:                        09:31:52   Log-Likelihood:                -222.47\n",
      "No. Observations:                 120   AIC:                             448.9\n",
      "Df Residuals:                     118   BIC:                             454.5\n",
      "Df Model:                           1                                         \n",
      "Covariance Type:            nonrobust                                         \n",
      "==============================================================================\n",
      "                 coef    std err          t      P>|t|      [0.025      0.975]\n",
      "------------------------------------------------------------------------------\n",
      "const          0.1598      0.144      1.112      0.268      -0.125       0.444\n",
      "Market         1.1698      0.033     35.560      0.000       1.105       1.235\n",
      "==============================================================================\n",
      "Omnibus:                        4.042   Durbin-Watson:                   2.063\n",
      "Prob(Omnibus):                  0.133   Jarque-Bera (JB):                4.543\n",
      "Skew:                           0.148   Prob(JB):                        0.103\n",
      "Kurtosis:                       3.906   Cond. No.                         4.42\n",
      "==============================================================================\n",
      "\n",
      "Notes:\n",
      "[1] Standard Errors assume that the covariance matrix of the errors is correctly specified.\n"
     ]
    },
    {
     "name": "stderr",
     "output_type": "stream",
     "text": [
      "/Users/User2/opt/anaconda3/lib/python3.8/site-packages/statsmodels/tsa/tsatools.py:142: FutureWarning: In a future version of pandas all arguments of concat except for the argument 'objs' will be keyword-only\n",
      "  x = pd.concat(x[::order], 1)\n"
     ]
    },
    {
     "data": {
      "text/plain": [
       "const     0.159771\n",
       "Market    1.169846\n",
       "dtype: float64"
      ]
     },
     "metadata": {},
     "output_type": "display_data"
    },
    {
     "name": "stdout",
     "output_type": "stream",
     "text": [
      "                            OLS Regression Results                            \n",
      "==============================================================================\n",
      "Dep. Variable:                  Enrgy   R-squared:                       0.479\n",
      "Model:                            OLS   Adj. R-squared:                  0.475\n",
      "Method:                 Least Squares   F-statistic:                     108.6\n",
      "Date:                Thu, 04 Nov 2021   Prob (F-statistic):           1.99e-18\n",
      "Time:                        09:31:52   Log-Likelihood:                -347.25\n",
      "No. Observations:                 120   AIC:                             698.5\n",
      "Df Residuals:                     118   BIC:                             704.1\n",
      "Df Model:                           1                                         \n",
      "Covariance Type:            nonrobust                                         \n",
      "==============================================================================\n",
      "                 coef    std err          t      P>|t|      [0.025      0.975]\n",
      "------------------------------------------------------------------------------\n",
      "const          0.5017      0.406      1.235      0.219      -0.303       1.306\n",
      "Market         0.9698      0.093     10.422      0.000       0.786       1.154\n",
      "==============================================================================\n",
      "Omnibus:                        9.527   Durbin-Watson:                   2.219\n",
      "Prob(Omnibus):                  0.009   Jarque-Bera (JB):               17.870\n",
      "Skew:                           0.253   Prob(JB):                     0.000132\n",
      "Kurtosis:                       4.821   Cond. No.                         4.42\n",
      "==============================================================================\n",
      "\n",
      "Notes:\n",
      "[1] Standard Errors assume that the covariance matrix of the errors is correctly specified.\n"
     ]
    },
    {
     "name": "stderr",
     "output_type": "stream",
     "text": [
      "/Users/User2/opt/anaconda3/lib/python3.8/site-packages/statsmodels/tsa/tsatools.py:142: FutureWarning: In a future version of pandas all arguments of concat except for the argument 'objs' will be keyword-only\n",
      "  x = pd.concat(x[::order], 1)\n"
     ]
    },
    {
     "data": {
      "text/plain": [
       "const     0.501719\n",
       "Market    0.969850\n",
       "dtype: float64"
      ]
     },
     "metadata": {},
     "output_type": "display_data"
    },
    {
     "name": "stdout",
     "output_type": "stream",
     "text": [
      "                            OLS Regression Results                            \n",
      "==============================================================================\n",
      "Dep. Variable:                  HiTec   R-squared:                       0.835\n",
      "Model:                            OLS   Adj. R-squared:                  0.834\n",
      "Method:                 Least Squares   F-statistic:                     599.0\n",
      "Date:                Thu, 04 Nov 2021   Prob (F-statistic):           4.66e-48\n",
      "Time:                        09:31:52   Log-Likelihood:                -263.45\n",
      "No. Observations:                 120   AIC:                             530.9\n",
      "Df Residuals:                     118   BIC:                             536.5\n",
      "Df Model:                           1                                         \n",
      "Covariance Type:            nonrobust                                         \n",
      "==============================================================================\n",
      "                 coef    std err          t      P>|t|      [0.025      0.975]\n",
      "------------------------------------------------------------------------------\n",
      "const         -0.0640      0.202     -0.317      0.752      -0.464       0.336\n",
      "Market         1.1330      0.046     24.475      0.000       1.041       1.225\n",
      "==============================================================================\n",
      "Omnibus:                        1.925   Durbin-Watson:                   1.972\n",
      "Prob(Omnibus):                  0.382   Jarque-Bera (JB):                1.422\n",
      "Skew:                           0.230   Prob(JB):                        0.491\n",
      "Kurtosis:                       3.271   Cond. No.                         4.42\n",
      "==============================================================================\n",
      "\n",
      "Notes:\n",
      "[1] Standard Errors assume that the covariance matrix of the errors is correctly specified.\n"
     ]
    },
    {
     "name": "stderr",
     "output_type": "stream",
     "text": [
      "/Users/User2/opt/anaconda3/lib/python3.8/site-packages/statsmodels/tsa/tsatools.py:142: FutureWarning: In a future version of pandas all arguments of concat except for the argument 'objs' will be keyword-only\n",
      "  x = pd.concat(x[::order], 1)\n"
     ]
    },
    {
     "data": {
      "text/plain": [
       "const    -0.064020\n",
       "Market    1.132969\n",
       "dtype: float64"
      ]
     },
     "metadata": {},
     "output_type": "display_data"
    },
    {
     "name": "stderr",
     "output_type": "stream",
     "text": [
      "/Users/User2/opt/anaconda3/lib/python3.8/site-packages/statsmodels/tsa/tsatools.py:142: FutureWarning: In a future version of pandas all arguments of concat except for the argument 'objs' will be keyword-only\n",
      "  x = pd.concat(x[::order], 1)\n"
     ]
    },
    {
     "name": "stdout",
     "output_type": "stream",
     "text": [
      "                            OLS Regression Results                            \n",
      "==============================================================================\n",
      "Dep. Variable:                  Telcm   R-squared:                       0.773\n",
      "Model:                            OLS   Adj. R-squared:                  0.771\n",
      "Method:                 Least Squares   F-statistic:                     401.2\n",
      "Date:                Thu, 04 Nov 2021   Prob (F-statistic):           9.01e-40\n",
      "Time:                        09:31:52   Log-Likelihood:                -259.97\n",
      "No. Observations:                 120   AIC:                             523.9\n",
      "Df Residuals:                     118   BIC:                             529.5\n",
      "Df Model:                           1                                         \n",
      "Covariance Type:            nonrobust                                         \n",
      "==============================================================================\n",
      "                 coef    std err          t      P>|t|      [0.025      0.975]\n",
      "------------------------------------------------------------------------------\n",
      "const          0.1947      0.196      0.991      0.324      -0.194       0.584\n",
      "Market         0.9007      0.045     20.031      0.000       0.812       0.990\n",
      "==============================================================================\n",
      "Omnibus:                        1.778   Durbin-Watson:                   2.060\n",
      "Prob(Omnibus):                  0.411   Jarque-Bera (JB):                1.397\n",
      "Skew:                          -0.050   Prob(JB):                        0.497\n",
      "Kurtosis:                       2.481   Cond. No.                         4.42\n",
      "==============================================================================\n",
      "\n",
      "Notes:\n",
      "[1] Standard Errors assume that the covariance matrix of the errors is correctly specified.\n"
     ]
    },
    {
     "data": {
      "text/plain": [
       "const     0.194691\n",
       "Market    0.900729\n",
       "dtype: float64"
      ]
     },
     "metadata": {},
     "output_type": "display_data"
    },
    {
     "name": "stdout",
     "output_type": "stream",
     "text": [
      "                            OLS Regression Results                            \n",
      "==============================================================================\n",
      "Dep. Variable:                  Shops   R-squared:                       0.768\n",
      "Model:                            OLS   Adj. R-squared:                  0.766\n",
      "Method:                 Least Squares   F-statistic:                     391.0\n",
      "Date:                Thu, 04 Nov 2021   Prob (F-statistic):           2.93e-39\n",
      "Time:                        09:31:52   Log-Likelihood:                -251.20\n",
      "No. Observations:                 120   AIC:                             506.4\n",
      "Df Residuals:                     118   BIC:                             512.0\n",
      "Df Model:                           1                                         \n",
      "Covariance Type:            nonrobust                                         \n",
      "==============================================================================\n",
      "                 coef    std err          t      P>|t|      [0.025      0.975]\n",
      "------------------------------------------------------------------------------\n",
      "const          0.2755      0.183      1.509      0.134      -0.086       0.637\n",
      "Market         0.8265      0.042     19.774      0.000       0.744       0.909\n",
      "==============================================================================\n",
      "Omnibus:                        2.280   Durbin-Watson:                   2.080\n",
      "Prob(Omnibus):                  0.320   Jarque-Bera (JB):                1.758\n",
      "Skew:                          -0.200   Prob(JB):                        0.415\n",
      "Kurtosis:                       3.437   Cond. No.                         4.42\n",
      "==============================================================================\n",
      "\n",
      "Notes:\n",
      "[1] Standard Errors assume that the covariance matrix of the errors is correctly specified.\n"
     ]
    },
    {
     "name": "stderr",
     "output_type": "stream",
     "text": [
      "/Users/User2/opt/anaconda3/lib/python3.8/site-packages/statsmodels/tsa/tsatools.py:142: FutureWarning: In a future version of pandas all arguments of concat except for the argument 'objs' will be keyword-only\n",
      "  x = pd.concat(x[::order], 1)\n"
     ]
    },
    {
     "data": {
      "text/plain": [
       "const     0.275492\n",
       "Market    0.826492\n",
       "dtype: float64"
      ]
     },
     "metadata": {},
     "output_type": "display_data"
    },
    {
     "name": "stdout",
     "output_type": "stream",
     "text": [
      "                            OLS Regression Results                            \n",
      "==============================================================================\n",
      "Dep. Variable:                   Hlth   R-squared:                       0.595\n",
      "Model:                            OLS   Adj. R-squared:                  0.592\n",
      "Method:                 Least Squares   F-statistic:                     173.5\n",
      "Date:                Thu, 04 Nov 2021   Prob (F-statistic):           6.33e-25\n",
      "Time:                        09:31:52   Log-Likelihood:                -275.30\n",
      "No. Observations:                 120   AIC:                             554.6\n",
      "Df Residuals:                     118   BIC:                             560.2\n",
      "Df Model:                           1                                         \n",
      "Covariance Type:            nonrobust                                         \n",
      "==============================================================================\n",
      "                 coef    std err          t      P>|t|      [0.025      0.975]\n",
      "------------------------------------------------------------------------------\n",
      "const          0.2378      0.223      1.066      0.289      -0.204       0.680\n",
      "Market         0.6730      0.051     13.173      0.000       0.572       0.774\n",
      "==============================================================================\n",
      "Omnibus:                        1.338   Durbin-Watson:                   2.104\n",
      "Prob(Omnibus):                  0.512   Jarque-Bera (JB):                0.863\n",
      "Skew:                           0.125   Prob(JB):                        0.649\n",
      "Kurtosis:                       3.333   Cond. No.                         4.42\n",
      "==============================================================================\n",
      "\n",
      "Notes:\n",
      "[1] Standard Errors assume that the covariance matrix of the errors is correctly specified.\n"
     ]
    },
    {
     "name": "stderr",
     "output_type": "stream",
     "text": [
      "/Users/User2/opt/anaconda3/lib/python3.8/site-packages/statsmodels/tsa/tsatools.py:142: FutureWarning: In a future version of pandas all arguments of concat except for the argument 'objs' will be keyword-only\n",
      "  x = pd.concat(x[::order], 1)\n"
     ]
    },
    {
     "data": {
      "text/plain": [
       "const     0.237841\n",
       "Market    0.673036\n",
       "dtype: float64"
      ]
     },
     "metadata": {},
     "output_type": "display_data"
    },
    {
     "name": "stdout",
     "output_type": "stream",
     "text": [
      "                            OLS Regression Results                            \n",
      "==============================================================================\n",
      "Dep. Variable:                  Utils   R-squared:                       0.398\n",
      "Model:                            OLS   Adj. R-squared:                  0.393\n",
      "Method:                 Least Squares   F-statistic:                     78.08\n",
      "Date:                Thu, 04 Nov 2021   Prob (F-statistic):           1.11e-14\n",
      "Time:                        09:31:52   Log-Likelihood:                -296.36\n",
      "No. Observations:                 120   AIC:                             596.7\n",
      "Df Residuals:                     118   BIC:                             602.3\n",
      "Df Model:                           1                                         \n",
      "Covariance Type:            nonrobust                                         \n",
      "==============================================================================\n",
      "                 coef    std err          t      P>|t|      [0.025      0.975]\n",
      "------------------------------------------------------------------------------\n",
      "const          0.4446      0.266      1.672      0.097      -0.082       0.971\n",
      "Market         0.5381      0.061      8.836      0.000       0.417       0.659\n",
      "==============================================================================\n",
      "Omnibus:                       14.460   Durbin-Watson:                   1.921\n",
      "Prob(Omnibus):                  0.001   Jarque-Bera (JB):               15.741\n",
      "Skew:                          -0.836   Prob(JB):                     0.000382\n",
      "Kurtosis:                       3.593   Cond. No.                         4.42\n",
      "==============================================================================\n",
      "\n",
      "Notes:\n",
      "[1] Standard Errors assume that the covariance matrix of the errors is correctly specified.\n"
     ]
    },
    {
     "name": "stderr",
     "output_type": "stream",
     "text": [
      "/Users/User2/opt/anaconda3/lib/python3.8/site-packages/statsmodels/tsa/tsatools.py:142: FutureWarning: In a future version of pandas all arguments of concat except for the argument 'objs' will be keyword-only\n",
      "  x = pd.concat(x[::order], 1)\n"
     ]
    },
    {
     "data": {
      "text/plain": [
       "const     0.444585\n",
       "Market    0.538086\n",
       "dtype: float64"
      ]
     },
     "metadata": {},
     "output_type": "display_data"
    },
    {
     "name": "stdout",
     "output_type": "stream",
     "text": [
      "                            OLS Regression Results                            \n",
      "==============================================================================\n",
      "Dep. Variable:                  Other   R-squared:                       0.881\n",
      "Model:                            OLS   Adj. R-squared:                  0.880\n",
      "Method:                 Least Squares   F-statistic:                     877.7\n",
      "Date:                Thu, 04 Nov 2021   Prob (F-statistic):           1.75e-56\n",
      "Time:                        09:31:52   Log-Likelihood:                -248.16\n",
      "No. Observations:                 120   AIC:                             500.3\n",
      "Df Residuals:                     118   BIC:                             505.9\n",
      "Df Model:                           1                                         \n",
      "Covariance Type:            nonrobust                                         \n",
      "==============================================================================\n",
      "                 coef    std err          t      P>|t|      [0.025      0.975]\n",
      "------------------------------------------------------------------------------\n",
      "const         -0.3871      0.178     -2.175      0.032      -0.740      -0.035\n",
      "Market         1.2073      0.041     29.626      0.000       1.127       1.288\n",
      "==============================================================================\n",
      "Omnibus:                       10.934   Durbin-Watson:                   2.032\n",
      "Prob(Omnibus):                  0.004   Jarque-Bera (JB):               27.755\n",
      "Skew:                           0.118   Prob(JB):                     9.40e-07\n",
      "Kurtosis:                       5.344   Cond. No.                         4.42\n",
      "==============================================================================\n",
      "\n",
      "Notes:\n",
      "[1] Standard Errors assume that the covariance matrix of the errors is correctly specified.\n"
     ]
    },
    {
     "name": "stderr",
     "output_type": "stream",
     "text": [
      "/Users/User2/opt/anaconda3/lib/python3.8/site-packages/statsmodels/tsa/tsatools.py:142: FutureWarning: In a future version of pandas all arguments of concat except for the argument 'objs' will be keyword-only\n",
      "  x = pd.concat(x[::order], 1)\n"
     ]
    },
    {
     "data": {
      "text/plain": [
       "const    -0.387135\n",
       "Market    1.207309\n",
       "dtype: float64"
      ]
     },
     "metadata": {},
     "output_type": "display_data"
    },
    {
     "data": {
      "image/png": "[encoded data removed]",
      "text/plain": [
       "<Figure size 432x288 with 1 Axes>"
      ]
     },
     "metadata": {
      "needs_background": "light"
     },
     "output_type": "display_data"
    },
    {
     "data": {
      "image/png": "[encoded data removed]",
      "text/plain": [
       "<Figure size 432x288 with 1 Axes>"
      ]
     },
     "metadata": {
      "needs_background": "light"
     },
     "output_type": "display_data"
    },
    {
     "data": {
      "image/png": "[encoded data removed]",
      "text/plain": [
       "<Figure size 432x288 with 1 Axes>"
      ]
     },
     "metadata": {
      "needs_background": "light"
     },
     "output_type": "display_data"
    },
    {
     "data": {
      "image/png": "[encoded data removed]",
      "text/plain": [
       "<Figure size 432x288 with 1 Axes>"
      ]
     },
     "metadata": {
      "needs_background": "light"
     },
     "output_type": "display_data"
    },
    {
     "data": {
      "image/png": "[encoded data removed]",
      "text/plain": [
       "<Figure size 432x288 with 1 Axes>"
      ]
     },
     "metadata": {
      "needs_background": "light"
     },
     "output_type": "display_data"
    },
    {
     "data": {
      "image/png": "[encoded data removed]",
      "text/plain": [
       "<Figure size 432x288 with 1 Axes>"
      ]
     },
     "metadata": {
      "needs_background": "light"
     },
     "output_type": "display_data"
    },
    {
     "data": {
      "image/png": "[encoded data removed]",
      "text/plain": [
       "<Figure size 432x288 with 1 Axes>"
      ]
     },
     "metadata": {
      "needs_background": "light"
     },
     "output_type": "display_data"
    },
    {
     "data": {
      "image/png": "[encoded data removed]",
      "text/plain": [
       "<Figure size 432x288 with 1 Axes>"
      ]
     },
     "metadata": {
      "needs_background": "light"
     },
     "output_type": "display_data"
    },
    {
     "data": {
      "image/png": "[encoded data removed]",
      "text/plain": [
       "<Figure size 432x288 with 1 Axes>"
      ]
     },
     "metadata": {
      "needs_background": "light"
     },
     "output_type": "display_data"
    },
    {
     "data": {
      "image/png": "[encoded data removed]",
      "text/plain": [
       "<Figure size 432x288 with 1 Axes>"
      ]
     },
     "metadata": {
      "needs_background": "light"
     },
     "output_type": "display_data"
    }
   ],
   "source": [
    "params_table1 = Ols_result(industry_df2,market_df2,params_table)"
   ]
  },
  {
   "cell_type": "code",
   "execution_count": 10,
   "id": "d4d5e9bf",
   "metadata": {},
   "outputs": [
    {
     "data": {
      "text/html": [
       "<div>\n",
       "<style scoped>\n",
       "    .dataframe tbody tr th:only-of-type {\n",
       "        vertical-align: middle;\n",
       "    }\n",
       "\n",
       "    .dataframe tbody tr th {\n",
       "        vertical-align: top;\n",
       "    }\n",
       "\n",
       "    .dataframe thead th {\n",
       "        text-align: right;\n",
       "    }\n",
       "</style>\n",
       "<table border=\"1\" class=\"dataframe\">\n",
       "  <thead>\n",
       "    <tr style=\"text-align: right;\">\n",
       "      <th></th>\n",
       "      <th>Industry</th>\n",
       "      <th>Intercept</th>\n",
       "      <th>Slope</th>\n",
       "    </tr>\n",
       "  </thead>\n",
       "  <tbody>\n",
       "    <tr>\n",
       "      <th>0</th>\n",
       "      <td>NoDur</td>\n",
       "      <td>0.369443</td>\n",
       "      <td>0.652647</td>\n",
       "    </tr>\n",
       "    <tr>\n",
       "      <th>1</th>\n",
       "      <td>Durbl</td>\n",
       "      <td>-0.415599</td>\n",
       "      <td>1.648536</td>\n",
       "    </tr>\n",
       "    <tr>\n",
       "      <th>2</th>\n",
       "      <td>Manuf</td>\n",
       "      <td>0.159771</td>\n",
       "      <td>1.169846</td>\n",
       "    </tr>\n",
       "    <tr>\n",
       "      <th>3</th>\n",
       "      <td>Enrgy</td>\n",
       "      <td>0.501719</td>\n",
       "      <td>0.969850</td>\n",
       "    </tr>\n",
       "    <tr>\n",
       "      <th>4</th>\n",
       "      <td>HiTec</td>\n",
       "      <td>-0.064020</td>\n",
       "      <td>1.132969</td>\n",
       "    </tr>\n",
       "    <tr>\n",
       "      <th>5</th>\n",
       "      <td>Telcm</td>\n",
       "      <td>0.194691</td>\n",
       "      <td>0.900729</td>\n",
       "    </tr>\n",
       "    <tr>\n",
       "      <th>6</th>\n",
       "      <td>Shops</td>\n",
       "      <td>0.275492</td>\n",
       "      <td>0.826492</td>\n",
       "    </tr>\n",
       "    <tr>\n",
       "      <th>7</th>\n",
       "      <td>Hlth</td>\n",
       "      <td>0.237841</td>\n",
       "      <td>0.673036</td>\n",
       "    </tr>\n",
       "    <tr>\n",
       "      <th>8</th>\n",
       "      <td>Utils</td>\n",
       "      <td>0.444585</td>\n",
       "      <td>0.538086</td>\n",
       "    </tr>\n",
       "    <tr>\n",
       "      <th>9</th>\n",
       "      <td>Other</td>\n",
       "      <td>-0.387135</td>\n",
       "      <td>1.207309</td>\n",
       "    </tr>\n",
       "  </tbody>\n",
       "</table>\n",
       "</div>"
      ],
      "text/plain": [
       "  Industry  Intercept     Slope\n",
       "0    NoDur   0.369443  0.652647\n",
       "1    Durbl  -0.415599  1.648536\n",
       "2    Manuf   0.159771  1.169846\n",
       "3    Enrgy   0.501719  0.969850\n",
       "4    HiTec  -0.064020  1.132969\n",
       "5    Telcm   0.194691  0.900729\n",
       "6    Shops   0.275492  0.826492\n",
       "7     Hlth   0.237841  0.673036\n",
       "8    Utils   0.444585  0.538086\n",
       "9    Other  -0.387135  1.207309"
      ]
     },
     "execution_count": 10,
     "metadata": {},
     "output_type": "execute_result"
    }
   ],
   "source": [
    "params_table1"
   ]
  },
  {
   "cell_type": "code",
   "execution_count": 11,
   "id": "b4aff7a0",
   "metadata": {
    "scrolled": true
   },
   "outputs": [
    {
     "name": "stderr",
     "output_type": "stream",
     "text": [
      "/Users/User2/opt/anaconda3/lib/python3.8/site-packages/statsmodels/tsa/tsatools.py:142: FutureWarning: In a future version of pandas all arguments of concat except for the argument 'objs' will be keyword-only\n",
      "  x = pd.concat(x[::order], 1)\n",
      "/Users/User2/opt/anaconda3/lib/python3.8/site-packages/scipy/stats/stats.py:1603: UserWarning: kurtosistest only valid for n>=20 ... continuing anyway, n=11\n",
      "  warnings.warn(\"kurtosistest only valid for n>=20 ... continuing \"\n",
      "No handles with labels found to put in legend.\n"
     ]
    },
    {
     "name": "stdout",
     "output_type": "stream",
     "text": [
      "                            OLS Regression Results                            \n",
      "==============================================================================\n",
      "Dep. Variable:                      y   R-squared:                       0.097\n",
      "Model:                            OLS   Adj. R-squared:                 -0.003\n",
      "Method:                 Least Squares   F-statistic:                    0.9679\n",
      "Date:                Thu, 04 Nov 2021   Prob (F-statistic):              0.351\n",
      "Time:                        09:31:54   Log-Likelihood:                 3.9339\n",
      "No. Observations:                  11   AIC:                            -3.868\n",
      "Df Residuals:                       9   BIC:                            -3.072\n",
      "Df Model:                           1                                         \n",
      "Covariance Type:            nonrobust                                         \n",
      "==============================================================================\n",
      "                 coef    std err          t      P>|t|      [0.025      0.975]\n",
      "------------------------------------------------------------------------------\n",
      "const          1.0328      0.192      5.374      0.000       0.598       1.468\n",
      "Slope         -0.1855      0.189     -0.984      0.351      -0.612       0.241\n",
      "==============================================================================\n",
      "Omnibus:                        2.793   Durbin-Watson:                   1.380\n",
      "Prob(Omnibus):                  0.247   Jarque-Bera (JB):                0.623\n",
      "Skew:                           0.489   Prob(JB):                        0.732\n",
      "Kurtosis:                       3.635   Cond. No.                         6.67\n",
      "==============================================================================\n",
      "\n",
      "Notes:\n",
      "[1] Standard Errors assume that the covariance matrix of the errors is correctly specified.\n",
      "const    1.032768\n",
      "Slope   -0.185467\n",
      "dtype: float64\n"
     ]
    },
    {
     "data": {
      "text/plain": [
       "<matplotlib.legend.Legend at 0x7f8de4c3eb20>"
      ]
     },
     "execution_count": 11,
     "metadata": {},
     "output_type": "execute_result"
    },
    {
     "data": {
      "image/png": "[encoded data removed]",
      "text/plain": [
       "<Figure size 432x288 with 1 Axes>"
      ]
     },
     "metadata": {
      "needs_background": "light"
     },
     "output_type": "display_data"
    }
   ],
   "source": [
    "treynor_mean_df = industry_df_treynor.mean()\n",
    "treynor_mean_df.loc['Market'] = treynor_market_mean\n",
    "\n",
    "indep_var_df = params_table1['Slope']\n",
    "indep_var_df.loc[10] = 1\n",
    "indep_var_const = sm.add_constant(indep_var_df)\n",
    "\n",
    "model2 = sm.OLS(np.array(treynor_mean_df),indep_var_const)\n",
    "result2 = model2.fit()\n",
    "print(result2.summary())\n",
    "print(result2.params)\n",
    "\n",
    "my_plot = plt.figure()\n",
    "my_plot = plt.plot(indep_var_df,treynor_mean_df,'ro')\n",
    "my_plot = plt.plot(indep_var_df,result2.fittedvalues)\n",
    "plt.legend()"
   ]
  },
  {
   "cell_type": "code",
   "execution_count": 12,
   "id": "91917887",
   "metadata": {},
   "outputs": [],
   "source": [
    "sml_coef, sml_slope = result2.params"
   ]
  },
  {
   "cell_type": "code",
   "execution_count": 13,
   "id": "eda14cf6",
   "metadata": {},
   "outputs": [
    {
     "data": {
      "text/plain": [
       "const    1.032768\n",
       "Slope   -0.185467\n",
       "dtype: float64"
      ]
     },
     "execution_count": 13,
     "metadata": {},
     "output_type": "execute_result"
    }
   ],
   "source": [
    "result2.params"
   ]
  },
  {
   "cell_type": "code",
   "execution_count": 14,
   "id": "f6d1e811",
   "metadata": {},
   "outputs": [],
   "source": [
    "sml_upper_point_y = sml_slope*2 + sml_coef"
   ]
  },
  {
   "cell_type": "code",
   "execution_count": 15,
   "id": "4c4181b5",
   "metadata": {
    "scrolled": false
   },
   "outputs": [
    {
     "data": {
      "text/plain": [
       "Text(0.5, 1.0, 'SML')"
      ]
     },
     "execution_count": 15,
     "metadata": {},
     "output_type": "execute_result"
    },
    {
     "data": {
      "image/png": "[encoded data removed]",
      "text/plain": [
       "<Figure size 432x288 with 1 Axes>"
      ]
     },
     "metadata": {
      "needs_background": "light"
     },
     "output_type": "display_data"
    }
   ],
   "source": [
    "y = [sml_coef,sml_upper_point_y]\n",
    "x = [0,2]\n",
    "\n",
    "plt.figure()\n",
    "plt.plot(x,y)\n",
    "plt.plot(indep_var_df,treynor_mean_df,'ro')\n",
    "plt.title('SML')"
   ]
  }
 ],
 "metadata": {
  "kernelspec": {
   "display_name": "Python 3",
   "language": "python",
   "name": "python3"
  },
  "language_info": {
   "codemirror_mode": {
    "name": "ipython",
    "version": 3
   },
   "file_extension": ".py",
   "mimetype": "text/x-python",
   "name": "python",
   "nbconvert_exporter": "python",
   "pygments_lexer": "ipython3",
   "version": "3.8.5"
  }
 },
 "nbformat": 4,
 "nbformat_minor": 5
}
