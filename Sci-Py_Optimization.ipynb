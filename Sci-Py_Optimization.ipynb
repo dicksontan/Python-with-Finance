{
 "cells": [
  {
   "cell_type": "code",
   "execution_count": 15,
   "id": "af79b1fa",
   "metadata": {},
   "outputs": [],
   "source": [
    "import numpy as np\n",
    "import pandas as pd\n",
    "import matplotlib.pyplot as plt\n",
    "from scipy import optimize\n",
    "import re"
   ]
  },
  {
   "cell_type": "code",
   "execution_count": 8,
   "id": "5e5ebb7b",
   "metadata": {},
   "outputs": [],
   "source": [
    "delta = 0.99\n",
    "gamma = 1\n",
    "lamb = 2\n",
    "Rf_rate = 1.0303"
   ]
  },
  {
   "cell_type": "code",
   "execution_count": 9,
   "id": "27980a58",
   "metadata": {},
   "outputs": [],
   "source": [
    "epsilon = np.random.standard_normal(10000)"
   ]
  },
  {
   "cell_type": "code",
   "execution_count": 10,
   "id": "c76c7588",
   "metadata": {},
   "outputs": [],
   "source": [
    "ln_g_consumption_growth = 0.02+0.02*epsilon"
   ]
  },
  {
   "cell_type": "code",
   "execution_count": 11,
   "id": "2948d0f4",
   "metadata": {},
   "outputs": [],
   "source": [
    "g_consumption_growth = np.exp(ln_g_consumption_growth)"
   ]
  },
  {
   "cell_type": "code",
   "execution_count": 12,
   "id": "ca7f4ebc",
   "metadata": {},
   "outputs": [],
   "source": [
    "b_o = np.arange(0,10.1,0.1)"
   ]
  },
  {
   "cell_type": "code",
   "execution_count": 13,
   "id": "99488170",
   "metadata": {},
   "outputs": [],
   "source": [
    "optimized_list = []\n",
    "from scipy import optimize\n",
    "def er_func(kappa):\n",
    "    b_x = b_o[i]\n",
    "    a = kappa*g_consumption_growth\n",
    "    nu_R = np.where(a>1.0303,a-1.0303,2*(a-1.0303))\n",
    "    kappa1 = 0.99*b_x*(nu_R.mean())+0.99*kappa-1\n",
    "    return kappa1\n",
    "\n",
    "for i in range(len(b_o)):\n",
    "    optimized_list.append(optimize.bisect(er_func,1,1.1))\n",
    "\n",
    "optimized_list = np.array(optimized_list)\n"
   ]
  },
  {
   "cell_type": "code",
   "execution_count": 14,
   "id": "9203e081",
   "metadata": {},
   "outputs": [
    {
     "data": {
      "text/plain": [
       "array([1.01010101, 1.01072721, 1.0112093 , 1.0115925 , 1.01190478,\n",
       "       1.01216442, 1.01238387, 1.01257184, 1.0127347 , 1.01287721,\n",
       "       1.01300297, 1.01311478, 1.01321487, 1.01330501, 1.01338662,\n",
       "       1.01346084, 1.01352864, 1.01359083, 1.01364806, 1.01370092,\n",
       "       1.0137499 , 1.01379539, 1.01383776, 1.0138773 , 1.01391429,\n",
       "       1.01394898, 1.01398157, 1.01401225, 1.01404118, 1.01406851,\n",
       "       1.01409437, 1.01411887, 1.01414212, 1.01416422, 1.01418524,\n",
       "       1.01420527, 1.01422437, 1.0142426 , 1.01426003, 1.01427671,\n",
       "       1.01429267, 1.01430798, 1.01432266, 1.01433676, 1.01435031,\n",
       "       1.01436335, 1.01437589, 1.01438798, 1.01439962, 1.01441086,\n",
       "       1.0144217 , 1.01443217, 1.01444228, 1.01445206, 1.01446152,\n",
       "       1.01447068, 1.01447955, 1.01448814, 1.01449647, 1.01450455,\n",
       "       1.01451238, 1.01451999, 1.01452738, 1.01453455, 1.01454153,\n",
       "       1.01454831, 1.01455491, 1.01456133, 1.01456758, 1.01457366,\n",
       "       1.01457959, 1.01458537, 1.014591  , 1.01459649, 1.01460184,\n",
       "       1.01460707, 1.01461217, 1.01461715, 1.01462201, 1.01462676,\n",
       "       1.0146314 , 1.01463593, 1.01464037, 1.0146447 , 1.01464894,\n",
       "       1.01465309, 1.01465715, 1.01466113, 1.01466502, 1.01466883,\n",
       "       1.01467256, 1.01467621, 1.01467979, 1.0146833 , 1.01468675,\n",
       "       1.01469012, 1.01469343, 1.01469667, 1.01469986, 1.01470298,\n",
       "       1.01470605])"
      ]
     },
     "execution_count": 14,
     "metadata": {},
     "output_type": "execute_result"
    }
   ],
   "source": [
    "optimized_list"
   ]
  },
  {
   "cell_type": "code",
   "execution_count": 45,
   "id": "835461fe",
   "metadata": {},
   "outputs": [],
   "source": [
    "Price_Dividend_Ratio = 1/(optimized_list-1)\n"
   ]
  },
  {
   "cell_type": "code",
   "execution_count": 46,
   "id": "9059154f",
   "metadata": {},
   "outputs": [
    {
     "data": {
      "text/plain": [
       "array([98.99999999, 93.02231622, 88.89327262, 85.86428971, 83.54564393,\n",
       "       81.71202702, 80.22478443, 78.99330033, 77.95688988, 77.07227801,\n",
       "       76.30841294, 75.64202736, 75.05551547, 74.53521937, 74.07054015,\n",
       "       73.65297907, 73.27575417, 72.93326275, 72.62088639, 72.33473527,\n",
       "       72.07173166, 71.8291796 , 71.60474751, 71.3964766 , 71.20267587,\n",
       "       71.02189   , 70.85286579, 70.69443808, 70.54568247, 70.40572864,\n",
       "       70.27380467, 70.14926477, 70.03149284, 69.91995654, 69.8141813 ,\n",
       "       69.71372224, 69.61818686, 69.52721201, 69.44048631, 69.35772523,\n",
       "       69.27865662, 69.20304262, 69.1306566 , 69.06129243, 68.99476658,\n",
       "       68.93091175, 68.86957738, 68.81061045, 68.75388079, 68.69926139,\n",
       "       68.64663869, 68.59590282, 68.54695221, 68.4996914 , 68.4540343 ,\n",
       "       68.40990542, 68.36722924, 68.32593392, 68.28595167, 68.2472202 ,\n",
       "       68.20968334, 68.17328406, 68.13797118, 68.10370131, 68.0704274 ,\n",
       "       68.03810724, 68.00669977, 67.97616448, 67.94646473, 67.91756979,\n",
       "       67.88944064, 67.86204932, 67.83537009, 67.80937507, 67.78403877,\n",
       "       67.75933685, 67.735246  , 67.71174138, 67.68880394, 67.66641379,\n",
       "       67.64455255, 67.62320136, 67.60234149, 67.58195547, 67.56202769,\n",
       "       67.54254372, 67.52348893, 67.50484873, 67.48660863, 67.4687577 ,\n",
       "       67.45128296, 67.43417218, 67.41741541, 67.40100167, 67.38491966,\n",
       "       67.3691594 , 67.35371161, 67.33856724, 67.32371786, 67.30915495,\n",
       "       67.2948702 ])"
      ]
     },
     "execution_count": 46,
     "metadata": {},
     "output_type": "execute_result"
    }
   ],
   "source": [
    "Price_Dividend_Ratio\n"
   ]
  },
  {
   "cell_type": "code",
   "execution_count": 47,
   "id": "856ae035",
   "metadata": {},
   "outputs": [],
   "source": [
    "data_table = pd.DataFrame({'b_o':b_o,'kappa':optimized_list,'P/D Ratio':Price_Dividend_Ratio})"
   ]
  },
  {
   "cell_type": "code",
   "execution_count": 76,
   "id": "cbe8c73b",
   "metadata": {},
   "outputs": [
    {
     "data": {
      "text/plain": [
       "Text(0.5, 1.0, 'Plot of Price-Dividend Ratio on scale factor b0')"
      ]
     },
     "execution_count": 76,
     "metadata": {},
     "output_type": "execute_result"
    },
    {
     "data": {
      "image/png": "[encoded data removed]",
      "text/plain": [
       "<Figure size 576x576 with 1 Axes>"
      ]
     },
     "metadata": {
      "needs_background": "light"
     },
     "output_type": "display_data"
    }
   ],
   "source": [
    "plt.figure(figsize=(8,8))\n",
    "plt.plot(b_o,Price_Dividend_Ratio)\n",
    "plt.xlabel('scale factor b0')\n",
    "plt.ylabel('Price-Dividend Ratio')\n",
    "plt.title('Plot of Price-Dividend Ratio on scale factor b0')"
   ]
  },
  {
   "cell_type": "code",
   "execution_count": 49,
   "id": "2a223489",
   "metadata": {
    "scrolled": false
   },
   "outputs": [
    {
     "data": {
      "text/plain": [
       "array([0.00047638, 0.00113877, 0.00164832, 0.00205329, 0.00238312,\n",
       "       0.00265721, 0.00288873, 0.00308704, 0.00325878, 0.00340903,\n",
       "       0.00354157, 0.00365938, 0.0037648 , 0.00385971, 0.0039456 ,\n",
       "       0.00402371, 0.00409503, 0.00416043, 0.00422062, 0.0042762 ,\n",
       "       0.00432769, 0.0043755 , 0.00442003, 0.0044616 , 0.0045005 ,\n",
       "       0.00453698, 0.00457126, 0.00460354, 0.00463398, 0.00466273,\n",
       "       0.00468994, 0.00471572, 0.00474018, 0.00476343, 0.00478554,\n",
       "       0.00480661, 0.00482669, 0.00484587, 0.0048642 , 0.00488174,\n",
       "       0.00489853, 0.00491463, 0.00493007, 0.00494489, 0.00495914,\n",
       "       0.00497284, 0.00498603, 0.00499872, 0.00501096, 0.00502276,\n",
       "       0.00503415, 0.00504514, 0.00505577, 0.00506604, 0.00507597,\n",
       "       0.00508559, 0.0050949 , 0.00510392, 0.00511267, 0.00512115,\n",
       "       0.00512938, 0.00513736, 0.00514512, 0.00515266, 0.00515998,\n",
       "       0.0051671 , 0.00517403, 0.00518077, 0.00518733, 0.00519372,\n",
       "       0.00519995, 0.00520601, 0.00521193, 0.0052177 , 0.00522332,\n",
       "       0.00522881, 0.00523417, 0.0052394 , 0.0052445 , 0.00524949,\n",
       "       0.00525436, 0.00525913, 0.00526378, 0.00526834, 0.00527279,\n",
       "       0.00527715, 0.00528141, 0.00528558, 0.00528967, 0.00529367,\n",
       "       0.00529759, 0.00530143, 0.00530519, 0.00530888, 0.00531249,\n",
       "       0.00531603, 0.00531951, 0.00532291, 0.00532626, 0.00532954,\n",
       "       0.00533275])"
      ]
     },
     "execution_count": 49,
     "metadata": {},
     "output_type": "execute_result"
    }
   ],
   "source": [
    "Expected_market_return = (optimized_list*g_consumption_growth.mean())\n",
    "Rf_rate = 1.0303\n",
    "Equity_Premium = Expected_market_return - Rf_rate\n",
    "Equity_Premium"
   ]
  },
  {
   "cell_type": "code",
   "execution_count": 50,
   "id": "cd6ff105",
   "metadata": {},
   "outputs": [
    {
     "data": {
      "text/plain": [
       "array([1.03077638, 1.03143877, 1.03194832, 1.03235329, 1.03268312,\n",
       "       1.03295721, 1.03318873, 1.03338704, 1.03355878, 1.03370903,\n",
       "       1.03384157, 1.03395938, 1.0340648 , 1.03415971, 1.0342456 ,\n",
       "       1.03432371, 1.03439503, 1.03446043, 1.03452062, 1.0345762 ,\n",
       "       1.03462769, 1.0346755 , 1.03472003, 1.0347616 , 1.0348005 ,\n",
       "       1.03483698, 1.03487126, 1.03490354, 1.03493398, 1.03496273,\n",
       "       1.03498994, 1.03501572, 1.03504018, 1.03506343, 1.03508554,\n",
       "       1.03510661, 1.03512669, 1.03514587, 1.0351642 , 1.03518174,\n",
       "       1.03519853, 1.03521463, 1.03523007, 1.03524489, 1.03525914,\n",
       "       1.03527284, 1.03528603, 1.03529872, 1.03531096, 1.03532276,\n",
       "       1.03533415, 1.03534514, 1.03535577, 1.03536604, 1.03537597,\n",
       "       1.03538559, 1.0353949 , 1.03540392, 1.03541267, 1.03542115,\n",
       "       1.03542938, 1.03543736, 1.03544512, 1.03545266, 1.03545998,\n",
       "       1.0354671 , 1.03547403, 1.03548077, 1.03548733, 1.03549372,\n",
       "       1.03549995, 1.03550601, 1.03551193, 1.0355177 , 1.03552332,\n",
       "       1.03552881, 1.03553417, 1.0355394 , 1.0355445 , 1.03554949,\n",
       "       1.03555436, 1.03555913, 1.03556378, 1.03556834, 1.03557279,\n",
       "       1.03557715, 1.03558141, 1.03558558, 1.03558967, 1.03559367,\n",
       "       1.03559759, 1.03560143, 1.03560519, 1.03560888, 1.03561249,\n",
       "       1.03561603, 1.03561951, 1.03562291, 1.03562626, 1.03562954,\n",
       "       1.03563275])"
      ]
     },
     "execution_count": 50,
     "metadata": {},
     "output_type": "execute_result"
    }
   ],
   "source": [
    "Expected_market_return"
   ]
  }
 ],
 "metadata": {
  "kernelspec": {
   "display_name": "Python 3",
   "language": "python",
   "name": "python3"
  },
  "language_info": {
   "codemirror_mode": {
    "name": "ipython",
    "version": 3
   },
   "file_extension": ".py",
   "mimetype": "text/x-python",
   "name": "python",
   "nbconvert_exporter": "python",
   "pygments_lexer": "ipython3",
   "version": "3.8.5"
  }
 },
 "nbformat": 4,
 "nbformat_minor": 5
}
